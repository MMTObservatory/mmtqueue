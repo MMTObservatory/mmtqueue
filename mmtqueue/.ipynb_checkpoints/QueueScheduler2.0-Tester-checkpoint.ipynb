{
 "cells": [
  {
   "cell_type": "markdown",
   "metadata": {},
   "source": [
    "##  Testing of QueueScheduler2.0\n",
    "Note: uses astropy 2.0 and astroplan 0.3.  Numpy is used when possible."
   ]
  },
  {
   "cell_type": "code",
   "execution_count": 5,
   "metadata": {},
   "outputs": [
    {
     "data": {
      "text/plain": [
       "'\\nQueue scheduler software for MMIRS and BinoSpec.\\n'"
      ]
     },
     "execution_count": 5,
     "metadata": {},
     "output_type": "execute_result"
    }
   ],
   "source": [
    "#!/usr/bin/env python3\n",
    "\"\"\"\n",
    "Queue scheduler software for MMIRS and BinoSpec.\n",
    "\"\"\""
   ]
  },
  {
   "cell_type": "code",
   "execution_count": 6,
   "metadata": {},
   "outputs": [],
   "source": [
    "# from astroplan import download_IERS_A\n",
    "# download_IERS_A()"
   ]
  },
  {
   "cell_type": "code",
   "execution_count": 7,
   "metadata": {
    "collapsed": true
   },
   "outputs": [],
   "source": [
    "# Standard libraries\n",
    "import argparse\n",
    "import json\n",
    "import os\n",
    "import pprint\n",
    "import re\n",
    "import redis\n",
    "import requests\n",
    "import string \n",
    "import sys\n",
    "import time\n",
    "import traceback\n",
    "from pytz import timezone\n",
    "from time import localtime, gmtime, strftime, strptime, time"
   ]
  },
  {
   "cell_type": "code",
   "execution_count": 8,
   "metadata": {},
   "outputs": [
    {
     "ename": "ModuleNotFoundError",
     "evalue": "No module named 'mmtqueue'",
     "output_type": "error",
     "traceback": [
      "\u001b[0;31m---------------------------------------------------------------------------\u001b[0m",
      "\u001b[0;31mModuleNotFoundError\u001b[0m                       Traceback (most recent call last)",
      "\u001b[0;32m<ipython-input-8-b6d2b7210e89>\u001b[0m in \u001b[0;36m<module>\u001b[0;34m()\u001b[0m\n\u001b[1;32m      1\u001b[0m \u001b[0;31m# local application libraries\u001b[0m\u001b[0;34m\u001b[0m\u001b[0;34m\u001b[0m\u001b[0m\n\u001b[0;32m----> 2\u001b[0;31m \u001b[0;32mfrom\u001b[0m \u001b[0mmmtqueue\u001b[0m\u001b[0;34m.\u001b[0m\u001b[0mconstraints\u001b[0m \u001b[0;32mimport\u001b[0m \u001b[0mMaskAngleConstraint\u001b[0m\u001b[0;34m,\u001b[0m         \u001b[0mMeridianConstraint\u001b[0m\u001b[0;34m,\u001b[0m         \u001b[0mMoonSeparationConstraint\u001b[0m\u001b[0;34m,\u001b[0m         \u001b[0mPIPriorityConstraint\u001b[0m\u001b[0;34m,\u001b[0m         \u001b[0mRotatorConstraint\u001b[0m\u001b[0;34m,\u001b[0m         \u001b[0mTimeAllocationConstraint\u001b[0m\u001b[0;34m,\u001b[0m         \u001b[0mTimeConstraint\u001b[0m\u001b[0;34m,\u001b[0m         \u001b[0mTransitConstraint\u001b[0m\u001b[0;34m\u001b[0m\u001b[0m\n\u001b[0m\u001b[1;32m      3\u001b[0m \u001b[0;32mfrom\u001b[0m \u001b[0mmmtqueue\u001b[0m\u001b[0;34m.\u001b[0m\u001b[0mscheduling\u001b[0m \u001b[0;32mimport\u001b[0m \u001b[0mMMTQueue\u001b[0m\u001b[0;34m,\u001b[0m         \u001b[0mMMTSequentialScheduler\u001b[0m\u001b[0;34m\u001b[0m\u001b[0m\n\u001b[1;32m      4\u001b[0m \u001b[0;31m# from mmtqueue.targets import MMTFixedTarget\u001b[0m\u001b[0;34m\u001b[0m\u001b[0;34m\u001b[0m\u001b[0m\n\u001b[1;32m      5\u001b[0m \u001b[0;32mfrom\u001b[0m \u001b[0mmmtqueue\u001b[0m\u001b[0;34m.\u001b[0m\u001b[0mutilities\u001b[0m \u001b[0;32mimport\u001b[0m \u001b[0mto_allocated_time\u001b[0m\u001b[0;34m,\u001b[0m         \u001b[0mto_completed_time\u001b[0m\u001b[0;34m,\u001b[0m         \u001b[0mto_constraint_details\u001b[0m\u001b[0;34m,\u001b[0m         \u001b[0mto_exception\u001b[0m\u001b[0;34m,\u001b[0m         \u001b[0mto_mysql\u001b[0m\u001b[0;34m,\u001b[0m         \u001b[0mto_output\u001b[0m\u001b[0;34m,\u001b[0m         \u001b[0mto_queue\u001b[0m\u001b[0;34m,\u001b[0m         \u001b[0mto_redis\u001b[0m\u001b[0;34m,\u001b[0m         \u001b[0mto_status\u001b[0m\u001b[0;34m,\u001b[0m         \u001b[0mto_stdout\u001b[0m\u001b[0;34m\u001b[0m\u001b[0m\n",
      "\u001b[0;31mModuleNotFoundError\u001b[0m: No module named 'mmtqueue'"
     ]
    }
   ],
   "source": [
    "# local application libraries\n",
    "from mmtqueue.constraints import MaskAngleConstraint, \\\n",
    "        MeridianConstraint, \\\n",
    "        MoonSeparationConstraint, \\\n",
    "        PIPriorityConstraint, \\\n",
    "        RotatorConstraint, \\\n",
    "        TimeAllocationConstraint, \\\n",
    "        TimeConstraint, \\\n",
    "        TransitConstraint\n",
    "from mmtqueue.scheduling import MMTQueue, \\\n",
    "        MMTSequentialScheduler\n",
    "# from mmtqueue.targets import MMTFixedTarget\n",
    "from mmtqueue.utilities import to_allocated_time, \\\n",
    "        to_completed_time, \\\n",
    "        to_constraint_details, \\\n",
    "        to_exception, \\\n",
    "        to_mysql, \\\n",
    "        to_output, \\\n",
    "        to_queue, \\\n",
    "        to_redis, \\\n",
    "        to_status, \\\n",
    "        to_stdout\n",
    "     \n"
   ]
  },
  {
   "cell_type": "code",
   "execution_count": 9,
   "metadata": {
    "collapsed": true
   },
   "outputs": [],
   "source": [
    "def test_compare_rotator_modes():\n",
    "    vega = FixedTarget(coord=SkyCoord(ra=279.23473479*u.deg, dec=38.78368896*u.deg),\n",
    "                   name=\"Vega\")\n",
    "    rigel = FixedTarget(coord=SkyCoord(ra=78.63446707*u.deg, dec=8.20163837*u.deg),\n",
    "                    name=\"Rigel\",posang=52.4)\n",
    "    polaris = FixedTarget(coord=SkyCoord(ra=37.95456067*u.deg,\n",
    "                                     dec=89.26410897*u.deg), name=\"Polaris\",posang=-42.1)\n",
    "    time = Time('2001-02-03 04:05:06')\n",
    "    time_ranges = [Time([time, time+1*u.hour]) + offset\n",
    "                   for offset in np.arange(0, 400, 100)*u.day]\n",
    "    subaru = Observer.at_site(\"Subaru\")\n",
    "    targets = [vega, rigel, polaris]\n",
    "    for time_range in time_ranges:\n",
    "         always_with_python = is_always_observable(RotatorConstraint(mode='python'),\n",
    "                                                      subaru, targets,\n",
    "                                                      time_range=time_range)\n",
    "         always_with_numpy = is_always_observable(RotatorConstraint(mode='numpy'),\n",
    "                                                      subaru, targets,\n",
    "                                                      time_range=time_range)\n",
    "         assert all(always_with_python == always_with_numpy)\n",
    "\n"
   ]
  },
  {
   "cell_type": "code",
   "execution_count": null,
   "metadata": {
    "collapsed": true
   },
   "outputs": [],
   "source": []
  }
 ],
 "metadata": {
  "kernelspec": {
   "display_name": "Python 3",
   "language": "python",
   "name": "python3"
  },
  "language_info": {
   "codemirror_mode": {
    "name": "ipython",
    "version": 3
   },
   "file_extension": ".py",
   "mimetype": "text/x-python",
   "name": "python",
   "nbconvert_exporter": "python",
   "pygments_lexer": "ipython3",
   "version": "3.6.2"
  }
 },
 "nbformat": 4,
 "nbformat_minor": 2
}
