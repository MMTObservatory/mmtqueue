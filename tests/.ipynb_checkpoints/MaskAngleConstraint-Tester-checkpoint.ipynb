{
 "cells": [
  {
   "cell_type": "markdown",
   "metadata": {},
   "source": [
    "##  MaskAngleConstraint tester\n",
    "Note: uses astropy 2.0 and astroplan 0.4.  Numpy is used when possible."
   ]
  },
  {
   "cell_type": "code",
   "execution_count": 195,
   "metadata": {},
   "outputs": [
    {
     "data": {
      "text/plain": [
       "'\\nMaskAngleConstraint tester.\\n'"
      ]
     },
     "execution_count": 195,
     "metadata": {},
     "output_type": "execute_result"
    }
   ],
   "source": [
    "#!/usr/bin/env python3\n",
    "\"\"\"\n",
    "MaskAngleConstraint tester.\n",
    "\"\"\""
   ]
  },
  {
   "cell_type": "code",
   "execution_count": 196,
   "metadata": {},
   "outputs": [
    {
     "data": {
      "text/plain": [
       "[astroplan 0.4 (/Users/jdgibson/anaconda3/envs/QueueScheduler2-0/lib/python3.6/site-packages),\n",
       " pytz 2017.2 (/Users/jdgibson/anaconda3/envs/QueueScheduler2-0/lib/python3.6/site-packages),\n",
       " astropy 2.0.2 (/Users/jdgibson/anaconda3/envs/QueueScheduler2-0/lib/python3.6/site-packages),\n",
       " numpy 1.13.3 (/Users/jdgibson/anaconda3/envs/QueueScheduler2-0/lib/python3.6/site-packages),\n",
       " numpy 1.13.3 (/Users/jdgibson/anaconda3/envs/QueueScheduler2-0/lib/python3.6/site-packages),\n",
       " pytest 3.2.1 (/Users/jdgibson/anaconda3/envs/QueueScheduler2-0/lib/python3.6/site-packages),\n",
       " setuptools 36.5.0.post20170921 (/Users/jdgibson/anaconda3/envs/QueueScheduler2-0/lib/python3.6/site-packages),\n",
       " py 1.4.34 (/Users/jdgibson/anaconda3/envs/QueueScheduler2-0/lib/python3.6/site-packages)]"
      ]
     },
     "execution_count": 196,
     "metadata": {},
     "output_type": "execute_result"
    }
   ],
   "source": [
    "import pkg_resources\n",
    "pkg_resources.require(\"astropy>=2.0\")\n",
    "pkg_resources.require(\"astroplan>=0.3\")"
   ]
  },
  {
   "cell_type": "code",
   "execution_count": 197,
   "metadata": {},
   "outputs": [],
   "source": [
    "# from astroplan import download_IERS_A\n",
    "# download_IERS_A()"
   ]
  },
  {
   "cell_type": "code",
   "execution_count": 198,
   "metadata": {},
   "outputs": [],
   "source": [
    "from astroplan import Observer, FixedTarget\n",
    "from astropy.time import Time"
   ]
  },
  {
   "cell_type": "code",
   "execution_count": 199,
   "metadata": {},
   "outputs": [],
   "source": [
    "from astroplan import Constraint, is_observable, is_always_observable, min_best_rescale\n",
    "from astropy.coordinates import Angle\n",
    "import astropy.units as u\n",
    "import numpy as np"
   ]
  },
  {
   "cell_type": "code",
   "execution_count": 200,
   "metadata": {},
   "outputs": [],
   "source": [
    "mmto = Observer(longitude=249.11499999999998*u.deg,\n",
    "                                 latitude=31.688333333333333*u.deg, \n",
    "                                 elevation=2608*u.m,\n",
    "                                 name=\"mmto\",\n",
    "                                 timezone=\"America/Phoenix\")\n",
    "times = Time([\"2015-08-01 06:00\", \"2015-08-01 12:00\"])"
   ]
  },
  {
   "cell_type": "code",
   "execution_count": 201,
   "metadata": {},
   "outputs": [
    {
     "name": "stdout",
     "output_type": "stream",
     "text": [
      "<Observer: name='mmto',\n",
      "    location (lon, lat, el)=(-110.88500000000002 deg, 31.688333333333325 deg, 2607.999999999073 m),\n",
      "    timezone=<DstTzInfo 'America/Phoenix' LMT-1 day, 16:32:00 STD>>\n"
     ]
    }
   ],
   "source": [
    "print(mmto)"
   ]
  },
  {
   "cell_type": "code",
   "execution_count": 202,
   "metadata": {},
   "outputs": [],
   "source": [
    "# Read in the table of targets\n",
    "from astropy.io import ascii\n",
    "target_table = ascii.read('targets.txt')"
   ]
  },
  {
   "cell_type": "code",
   "execution_count": 203,
   "metadata": {},
   "outputs": [],
   "source": [
    "# Create astroplan.FixedTarget objects for each one in the table\n",
    "from astropy.coordinates import SkyCoord\n",
    "import astropy.units as u\n",
    "targets = [FixedTarget(coord=SkyCoord(ra=ra*u.deg, dec=dec*u.deg), name=name)\n",
    "           for name, ra, dec in target_table]"
   ]
  },
  {
   "cell_type": "code",
   "execution_count": 204,
   "metadata": {},
   "outputs": [
    {
     "name": "stdout",
     "output_type": "stream",
     "text": [
      "[<FixedTarget \"Polaris\" at SkyCoord (ICRS): (ra, dec) in deg ( 37.95456067,  89.26410897)>, <FixedTarget \"Vega\" at SkyCoord (ICRS): (ra, dec) in deg ( 279.23473479,  38.78368896)>, <FixedTarget \"Albireo\" at SkyCoord (ICRS): (ra, dec) in deg ( 292.68033548,  27.95968007)>, <FixedTarget \"Algol\" at SkyCoord (ICRS): (ra, dec) in deg ( 47.04221855,  40.95564667)>, <FixedTarget \"Rigel\" at SkyCoord (ICRS): (ra, dec) in deg ( 78.63446707, -8.20163837)>, <FixedTarget \"Regulus\" at SkyCoord (ICRS): (ra, dec) in deg ( 152.09296244,  11.96720878)>]\n"
     ]
    }
   ],
   "source": [
    "print(targets)"
   ]
  },
  {
   "cell_type": "code",
   "execution_count": 205,
   "metadata": {},
   "outputs": [],
   "source": [
    "# Example of boolean to float:  \n",
    "# https://stackoverflow.com/questions/16869990/how-to-convert-from-boolean-array-to-int-array-in-python\n",
    "def boolstr_to_floatstr(v):\n",
    "    if v == 'True' or v == True:\n",
    "        return '1'\n",
    "    elif v == 'False' or v == False:\n",
    "        return '0.1'\n",
    "    else:\n",
    "        return v"
   ]
  },
  {
   "cell_type": "code",
   "execution_count": 206,
   "metadata": {},
   "outputs": [],
   "source": [
    "class MaskAngleConstraint(Constraint):\n",
    "    \"\"\"\n",
    "       MaskAngleConstraint.\n",
    "\n",
    "    \"\"\"\n",
    "    def __init__(self, design_parang=0.0*u.deg, \n",
    "                 max_mask_angle=30.0*u.deg, \n",
    "                 grid_times_targets=False, \n",
    "                 debug=False):\n",
    "        self.design_parang = design_parang\n",
    "        self.max_mask_angle = max_mask_angle\n",
    "        self.grid_times_targets = grid_times_targets\n",
    "        self.debug = debug\n",
    "       \n",
    "    def compute_constraint(self, times, observer, targets):\n",
    "        if self.grid_times_targets:\n",
    "            mask = [([abs(observer.parallactic_angle(time, target) - \\\n",
    "                             self.design_parang) <= abs(self.max_mask_angle)\n",
    "                    for time in times])\n",
    "                        for target in targets]\n",
    "        else:\n",
    "            mask = [all([abs(observer.parallactic_angle(time, target) - \\\n",
    "                             self.design_parang) <= abs(self.max_mask_angle)\n",
    "                    for time in times])\n",
    "                        for target in targets]\n",
    "        if self.debug:\n",
    "            print(\"targets\")\n",
    "            print(repr(targets))\n",
    "            print(\"times\")\n",
    "            print(repr(times))\n",
    "            print(\"mask\")\n",
    "            print(repr(mask))\n",
    "\n",
    "        return mask"
   ]
  },
  {
   "cell_type": "code",
   "execution_count": 207,
   "metadata": {},
   "outputs": [],
   "source": [
    "m = MaskAngleConstraint(design_parang=5*u.deg, max_mask_angle=30*u.deg, grid_times_targets=True, debug=True)"
   ]
  },
  {
   "cell_type": "code",
   "execution_count": 208,
   "metadata": {},
   "outputs": [
    {
     "data": {
      "text/plain": [
       "[[False, True],\n",
       " [False, False],\n",
       " [False, False],\n",
       " [False, False],\n",
       " [False, False],\n",
       " [False, False]]"
      ]
     },
     "execution_count": 208,
     "metadata": {},
     "output_type": "execute_result"
    }
   ],
   "source": [
    "m.compute_constraint(times, mmto, targets)"
   ]
  },
  {
   "cell_type": "code",
   "execution_count": null,
   "metadata": {},
   "outputs": [],
   "source": []
  }
 ],
 "metadata": {
  "kernelspec": {
   "display_name": "Python 3",
   "language": "python",
   "name": "python3"
  },
  "language_info": {
   "codemirror_mode": {
    "name": "ipython",
    "version": 3
   },
   "file_extension": ".py",
   "mimetype": "text/x-python",
   "name": "python",
   "nbconvert_exporter": "python",
   "pygments_lexer": "ipython3",
   "version": "3.6.3"
  }
 },
 "nbformat": 4,
 "nbformat_minor": 2
}
