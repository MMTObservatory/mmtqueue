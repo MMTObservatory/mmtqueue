{
 "cells": [
  {
   "cell_type": "markdown",
   "metadata": {},
   "source": [
    "##  MaskAngleConstraint tester\n",
    "Note: uses astropy 2.0 and astroplan 0.4.  Numpy is used when possible."
   ]
  },
  {
   "cell_type": "code",
   "execution_count": 16,
   "metadata": {},
   "outputs": [
    {
     "data": {
      "text/plain": [
       "'\\nMaskAngleConstraint tester.\\n'"
      ]
     },
     "execution_count": 16,
     "metadata": {},
     "output_type": "execute_result"
    }
   ],
   "source": [
    "#!/usr/bin/env python3\n",
    "\"\"\"\n",
    "MaskAngleConstraint tester.\n",
    "\"\"\""
   ]
  },
  {
   "cell_type": "code",
   "execution_count": 17,
   "metadata": {},
   "outputs": [
    {
     "data": {
      "text/plain": [
       "[astroplan 0.3 (/Users/jdgibson/anaconda/lib/python3.6/site-packages),\n",
       " astropy 2.0.2 (/Users/jdgibson/anaconda/lib/python3.6/site-packages),\n",
       " pytz 2017.2 (/Users/jdgibson/anaconda/lib/python3.6/site-packages),\n",
       " numpy 1.12.1 (/Users/jdgibson/anaconda/lib/python3.6/site-packages),\n",
       " numpy 1.12.1 (/Users/jdgibson/anaconda/lib/python3.6/site-packages),\n",
       " pytest 3.0.7 (/Users/jdgibson/anaconda/lib/python3.6/site-packages),\n",
       " setuptools 27.2.0 (/Users/jdgibson/anaconda/lib/python3.6/site-packages/setuptools-27.2.0-py3.6.egg),\n",
       " py 1.4.33 (/Users/jdgibson/anaconda/lib/python3.6/site-packages)]"
      ]
     },
     "execution_count": 17,
     "metadata": {},
     "output_type": "execute_result"
    }
   ],
   "source": [
    "import pkg_resources\n",
    "pkg_resources.require(\"astropy>=2.0\")\n",
    "pkg_resources.require(\"astroplan>=0.3\")"
   ]
  },
  {
   "cell_type": "code",
   "execution_count": 18,
   "metadata": {
    "collapsed": true
   },
   "outputs": [],
   "source": [
    "# from astroplan import download_IERS_A\n",
    "# download_IERS_A()"
   ]
  },
  {
   "cell_type": "code",
   "execution_count": 19,
   "metadata": {
    "collapsed": true
   },
   "outputs": [],
   "source": [
    "from astroplan import Observer, FixedTarget\n",
    "from astropy.time import Time"
   ]
  },
  {
   "cell_type": "code",
   "execution_count": 20,
   "metadata": {
    "collapsed": true
   },
   "outputs": [],
   "source": [
    "from astroplan import Constraint, is_observable, is_always_observable, min_best_rescale\n",
    "from astropy.coordinates import Angle\n",
    "import astropy.units as u\n",
    "import numpy as np\n",
    "import datetime"
   ]
  },
  {
   "cell_type": "code",
   "execution_count": 21,
   "metadata": {
    "collapsed": true
   },
   "outputs": [],
   "source": [
    "mmto = Observer(longitude=249.11499999999998*u.deg,\n",
    "                                 latitude=31.688333333333333*u.deg, \n",
    "                                 elevation=2608*u.m,\n",
    "                                 name=\"mmto\",\n",
    "                                 timezone=\"America/Phoenix\")\n",
    "times = Time([\"2015-08-01 06:00\", \"2015-08-01 12:00\"])"
   ]
  },
  {
   "cell_type": "code",
   "execution_count": 22,
   "metadata": {},
   "outputs": [
    {
     "name": "stdout",
     "output_type": "stream",
     "text": [
      "<Observer: name='mmto',\n",
      "    location (lon, lat, el)=(-110.88500000000002 deg, 31.688333333333325 deg, 2607.999999999073 m),\n",
      "    timezone=<DstTzInfo 'America/Phoenix' LMT-1 day, 16:32:00 STD>>\n"
     ]
    }
   ],
   "source": [
    "print(mmto)"
   ]
  },
  {
   "cell_type": "code",
   "execution_count": 23,
   "metadata": {
    "collapsed": true
   },
   "outputs": [],
   "source": [
    "# Read in the table of targets\n",
    "from astropy.io import ascii\n",
    "target_table = ascii.read('targets.txt')"
   ]
  },
  {
   "cell_type": "code",
   "execution_count": 24,
   "metadata": {
    "collapsed": true
   },
   "outputs": [],
   "source": [
    "# Create astroplan.FixedTarget objects for each one in the table\n",
    "from astropy.coordinates import SkyCoord\n",
    "import astropy.units as u\n",
    "targets = [FixedTarget(coord=SkyCoord(ra=ra*u.deg, dec=dec*u.deg), name=name)\n",
    "           for name, ra, dec in target_table]"
   ]
  },
  {
   "cell_type": "code",
   "execution_count": 25,
   "metadata": {},
   "outputs": [
    {
     "name": "stdout",
     "output_type": "stream",
     "text": [
      "[<FixedTarget \"Polaris\" at SkyCoord (ICRS): (ra, dec) in deg ( 37.95456067,  89.26410897)>, <FixedTarget \"Vega\" at SkyCoord (ICRS): (ra, dec) in deg ( 279.23473479,  38.78368896)>, <FixedTarget \"Albireo\" at SkyCoord (ICRS): (ra, dec) in deg ( 292.68033548,  27.95968007)>, <FixedTarget \"Algol\" at SkyCoord (ICRS): (ra, dec) in deg ( 47.04221855,  40.95564667)>, <FixedTarget \"Rigel\" at SkyCoord (ICRS): (ra, dec) in deg ( 78.63446707, -8.20163837)>, <FixedTarget \"Regulus\" at SkyCoord (ICRS): (ra, dec) in deg ( 152.09296244,  11.96720878)>]\n"
     ]
    }
   ],
   "source": [
    "print(targets)"
   ]
  },
  {
   "cell_type": "code",
   "execution_count": 26,
   "metadata": {
    "collapsed": true
   },
   "outputs": [],
   "source": [
    "# Example of boolean to float:  \n",
    "# https://stackoverflow.com/questions/16869990/how-to-convert-from-boolean-array-to-int-array-in-python\n",
    "def boolstr_to_floatstr(v):\n",
    "    if v == 'True' or v == True:\n",
    "        return '1'\n",
    "    elif v == 'False' or v == False:\n",
    "        return '0.1'\n",
    "    else:\n",
    "        return v"
   ]
  },
  {
   "cell_type": "code",
   "execution_count": 27,
   "metadata": {
    "collapsed": true
   },
   "outputs": [],
   "source": [
    "class MaskAngleConstraint(Constraint):\n",
    "    \"\"\"\n",
    "       MaskAngleConstraint.\n",
    "\n",
    "    \"\"\"\n",
    "    def __init__(self, design_parang=0.0*u.deg, \n",
    "                 max_mask_angle=30.0*u.deg, \n",
    "                 grid_times_targets=False, \n",
    "                 debug=False):\n",
    "        self.design_parang = design_parang\n",
    "        self.max_mask_angle = max_mask_angle\n",
    "        self.grid_times_targets = grid_times_targets\n",
    "        self.debug = debug\n",
    "       \n",
    "    def compute_constraint(self, times, observer, targets):\n",
    "        if self.grid_times_targets:\n",
    "            mask = [([abs(observer.parallactic_angle(time, target) - \\\n",
    "                             self.design_parang) <= abs(self.max_mask_angle)\n",
    "                    for time in times])\n",
    "                        for target in targets]\n",
    "        else:\n",
    "            mask = [all([abs(observer.parallactic_angle(time, target) - \\\n",
    "                             self.design_parang) <= abs(self.max_mask_angle)\n",
    "                    for time in times])\n",
    "                        for target in targets]\n",
    "        if self.debug:\n",
    "            print(\"targets\")\n",
    "            print(repr(targets))\n",
    "            print(\"times\")\n",
    "            print(repr(times))\n",
    "            print(\"mask\")\n",
    "            print(repr(mask))\n",
    "\n",
    "        return mask"
   ]
  },
  {
   "cell_type": "code",
   "execution_count": 28,
   "metadata": {
    "collapsed": true
   },
   "outputs": [],
   "source": [
    "m = MaskAngleConstraint(design_parang=5*u.deg, \n",
    "                        max_mask_angle=30*u.deg, \n",
    "                        grid_times_targets=True, \n",
    "                        debug=True)"
   ]
  },
  {
   "cell_type": "code",
   "execution_count": 29,
   "metadata": {},
   "outputs": [
    {
     "name": "stdout",
     "output_type": "stream",
     "text": [
      "targets\n",
      "[<FixedTarget \"Polaris\" at SkyCoord (ICRS): (ra, dec) in deg ( 37.95456067,  89.26410897)>, <FixedTarget \"Vega\" at SkyCoord (ICRS): (ra, dec) in deg ( 279.23473479,  38.78368896)>, <FixedTarget \"Albireo\" at SkyCoord (ICRS): (ra, dec) in deg ( 292.68033548,  27.95968007)>, <FixedTarget \"Algol\" at SkyCoord (ICRS): (ra, dec) in deg ( 47.04221855,  40.95564667)>, <FixedTarget \"Rigel\" at SkyCoord (ICRS): (ra, dec) in deg ( 78.63446707, -8.20163837)>, <FixedTarget \"Regulus\" at SkyCoord (ICRS): (ra, dec) in deg ( 152.09296244,  11.96720878)>]\n",
      "times\n",
      "<Time object: scale='utc' format='iso' value=['2015-08-01 06:00:00.000' '2015-08-01 12:00:00.000']>\n",
      "mask\n",
      "[[array(False, dtype=bool), array(True, dtype=bool)], [array(False, dtype=bool), array(False, dtype=bool)], [array(False, dtype=bool), array(False, dtype=bool)], [array(False, dtype=bool), array(False, dtype=bool)], [array(False, dtype=bool), array(False, dtype=bool)], [array(False, dtype=bool), array(False, dtype=bool)]]\n"
     ]
    },
    {
     "data": {
      "text/plain": [
       "[[array(False, dtype=bool), array(True, dtype=bool)],\n",
       " [array(False, dtype=bool), array(False, dtype=bool)],\n",
       " [array(False, dtype=bool), array(False, dtype=bool)],\n",
       " [array(False, dtype=bool), array(False, dtype=bool)],\n",
       " [array(False, dtype=bool), array(False, dtype=bool)],\n",
       " [array(False, dtype=bool), array(False, dtype=bool)]]"
      ]
     },
     "execution_count": 29,
     "metadata": {},
     "output_type": "execute_result"
    }
   ],
   "source": [
    "m.compute_constraint(times, mmto, targets)"
   ]
  },
  {
   "cell_type": "code",
   "execution_count": 30,
   "metadata": {},
   "outputs": [
    {
     "name": "stdout",
     "output_type": "stream",
     "text": [
      "Elapsed time:  0:00:00.493462\n"
     ]
    }
   ],
   "source": [
    "m = MaskAngleConstraint(design_parang=5*u.deg, \n",
    "                        max_mask_angle=30*u.deg, \n",
    "                        grid_times_targets=True, \n",
    "                        debug=False)\n",
    "start = datetime.datetime.now()\n",
    "for count in range(10):\n",
    "    m.compute_constraint(times, mmto, targets)\n",
    "end = datetime.datetime.now()\n",
    "print(\"Elapsed time: \", str(end - start))"
   ]
  },
  {
   "cell_type": "code",
   "execution_count": null,
   "metadata": {
    "collapsed": true
   },
   "outputs": [],
   "source": []
  }
 ],
 "metadata": {
  "kernelspec": {
   "display_name": "Python 3",
   "language": "python",
   "name": "python3"
  },
  "language_info": {
   "codemirror_mode": {
    "name": "ipython",
    "version": 3
   },
   "file_extension": ".py",
   "mimetype": "text/x-python",
   "name": "python",
   "nbconvert_exporter": "python",
   "pygments_lexer": "ipython3",
   "version": "3.6.3"
  }
 },
 "nbformat": 4,
 "nbformat_minor": 2
}
