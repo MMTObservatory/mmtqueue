{
 "cells": [
  {
   "cell_type": "markdown",
   "metadata": {},
   "source": [
    "##  MaskAngleConstraint tester\n",
    "Note: uses astropy 2.0 and astroplan 0.4.  Numpy is used when possible."
   ]
  },
  {
   "cell_type": "code",
   "execution_count": 1,
   "metadata": {},
   "outputs": [
    {
     "data": {
      "text/plain": [
       "'\\nMaskAngleConstraint tester.\\n'"
      ]
     },
     "execution_count": 1,
     "metadata": {},
     "output_type": "execute_result"
    }
   ],
   "source": [
    "#!/usr/bin/env python3\n",
    "\"\"\"\n",
    "MaskAngleConstraint tester.\n",
    "\"\"\""
   ]
  },
  {
   "cell_type": "code",
   "execution_count": 2,
   "metadata": {},
   "outputs": [
    {
     "data": {
      "text/plain": [
       "[astroplan 0.4 (/Users/jdgibson/anaconda3/lib/python3.6/site-packages),\n",
       " pytz 2017.2 (/Users/jdgibson/anaconda3/lib/python3.6/site-packages),\n",
       " astropy 2.0.2 (/Users/jdgibson/anaconda3/lib/python3.6/site-packages),\n",
       " numpy 1.13.3 (/Users/jdgibson/anaconda3/lib/python3.6/site-packages),\n",
       " numpy 1.13.3 (/Users/jdgibson/anaconda3/lib/python3.6/site-packages),\n",
       " pytest 3.2.1 (/Users/jdgibson/anaconda3/lib/python3.6/site-packages),\n",
       " setuptools 36.5.0.post20170921 (/Users/jdgibson/anaconda3/lib/python3.6/site-packages),\n",
       " py 1.4.34 (/Users/jdgibson/anaconda3/lib/python3.6/site-packages)]"
      ]
     },
     "execution_count": 2,
     "metadata": {},
     "output_type": "execute_result"
    }
   ],
   "source": [
    "import pkg_resources\n",
    "pkg_resources.require(\"astropy>=2.0\")\n",
    "pkg_resources.require(\"astroplan>=0.3\")"
   ]
  },
  {
   "cell_type": "code",
   "execution_count": 3,
   "metadata": {
    "collapsed": true
   },
   "outputs": [],
   "source": [
    "# from astroplan import download_IERS_A\n",
    "# download_IERS_A()"
   ]
  },
  {
   "cell_type": "code",
   "execution_count": 4,
   "metadata": {
    "collapsed": true
   },
   "outputs": [],
   "source": [
    "from astroplan import Observer, FixedTarget\n",
    "from astropy.time import Time, TimeDelta"
   ]
  },
  {
   "cell_type": "code",
   "execution_count": 5,
   "metadata": {
    "collapsed": true
   },
   "outputs": [],
   "source": [
    "from astroplan import Constraint\n",
    "from astroplan.constraints import _get_altaz\n",
    "from astropy.coordinates import Angle\n",
    "from astropy.coordinates import SkyCoord\n",
    "import astropy.units as u\n",
    "import numpy as np\n",
    "import datetime"
   ]
  },
  {
   "cell_type": "code",
   "execution_count": 6,
   "metadata": {
    "collapsed": true
   },
   "outputs": [],
   "source": [
    "import sqlite3\n",
    "from sqlite3 import Error\n",
    "\n",
    "\"\"\"\n",
    "CREATE TABLE `scores` (\n",
    "\t`key`\tTEXT,\n",
    "\t`value`\tREAL,\n",
    "\tPRIMARY KEY(`key`)\n",
    ")\n",
    "\"\"\"\n",
    "sqlite_file = '/Users/jdgibson/git/QueueScheduler2.0/scores.sqlite' \n",
    "table = \"scores\"\n",
    " \n"
   ]
  },
  {
   "cell_type": "code",
   "execution_count": 7,
   "metadata": {},
   "outputs": [
    {
     "name": "stdout",
     "output_type": "stream",
     "text": [
      "[('scores',)]\n"
     ]
    }
   ],
   "source": [
    "# create a database connection\n",
    "conn = sqlite3.connect(sqlite_file)\n",
    "c = conn.cursor()\n",
    "c.execute(\"SELECT name FROM sqlite_master WHERE type='table';\")\n",
    "print(c.fetchall())\n",
    "conn.close()"
   ]
  },
  {
   "cell_type": "code",
   "execution_count": 8,
   "metadata": {
    "collapsed": true
   },
   "outputs": [],
   "source": [
    "def get_score(conn, key):\n",
    "    \"\"\"\n",
    "\n",
    "    \"\"\"\n",
    "    c = conn.cursor()\n",
    "    c.execute(\"SELECT * FROM scores WHERE key='{}'\".format(key)) \n",
    "    row = c.fetchone()\n",
    "    return row"
   ]
  },
  {
   "cell_type": "code",
   "execution_count": 9,
   "metadata": {
    "collapsed": true
   },
   "outputs": [],
   "source": [
    "def set_score(conn, key, value):\n",
    "    \"\"\"\n",
    "\n",
    "    \"\"\"\n",
    "    c = conn.cursor()\n",
    "    \n",
    "    try:\n",
    "        sql = \"REPLACE INTO scores VALUES ('{}', {})\".format(key, value)\n",
    "        if True:\n",
    "            print(\"sql: \", sql)\n",
    "        \n",
    "        # Can do this with new versions of sqlite.  It does commits automatically.\n",
    "        with conn:\n",
    "            conn.execute(sql)\n",
    "\n",
    "        # Older version.\n",
    "        # c.execute(sql)\n",
    "        # Save (commit) the changes\n",
    "        # conn.commit()\n",
    "        # conn.close()\n",
    "    except sqlite3.IntegrityError:\n",
    "        print('ERROR: ID already exists in PRIMARY KEY column {}'.format(\"key\"))\n"
   ]
  },
  {
   "cell_type": "code",
   "execution_count": 10,
   "metadata": {
    "collapsed": true
   },
   "outputs": [],
   "source": [
    "def get_key(constraint, target, time):\n",
    "    \"\"\"\n",
    "    \n",
    "    \"\"\"\n",
    "    time.format = 'isot'\n",
    "    key = \"{}.{}.{}\".format(target, \n",
    "                            str(time), \n",
    "                            constraint)\n",
    "    if True:\n",
    "        print(\"key:\", key)\n",
    "    return key"
   ]
  },
  {
   "cell_type": "code",
   "execution_count": 11,
   "metadata": {
    "collapsed": true
   },
   "outputs": [],
   "source": [
    "def dict_factory(cursor, row):\n",
    "    d = {}\n",
    "    for idx,col in enumerate(cursor.description):\n",
    "        d[col[0]] = row[idx]\n",
    "    return d"
   ]
  },
  {
   "cell_type": "code",
   "execution_count": 12,
   "metadata": {
    "collapsed": true
   },
   "outputs": [],
   "source": [
    "mmto = Observer(longitude=249.11499999999998*u.deg,\n",
    "                                 latitude=31.688333333333333*u.deg, \n",
    "                                 elevation=2608*u.m,\n",
    "                                 name=\"mmto\",\n",
    "                                 timezone=\"America/Phoenix\")\n",
    "times = Time([\"2015-08-01 06:00\", \"2015-08-01 12:00\"])"
   ]
  },
  {
   "cell_type": "code",
   "execution_count": 13,
   "metadata": {},
   "outputs": [
    {
     "name": "stdout",
     "output_type": "stream",
     "text": [
      "<Observer: name='mmto',\n",
      "    location (lon, lat, el)=(-110.88500000000002 deg, 31.688333333333325 deg, 2607.999999999073 m),\n",
      "    timezone=<DstTzInfo 'America/Phoenix' LMT-1 day, 16:32:00 STD>>\n"
     ]
    }
   ],
   "source": [
    "print(mmto)"
   ]
  },
  {
   "cell_type": "code",
   "execution_count": 14,
   "metadata": {
    "collapsed": true
   },
   "outputs": [],
   "source": [
    "# Read in the table of targets\n",
    "from astropy.io import ascii\n",
    "target_table = ascii.read('targets.txt')"
   ]
  },
  {
   "cell_type": "code",
   "execution_count": 15,
   "metadata": {
    "collapsed": true
   },
   "outputs": [],
   "source": [
    "# Create astroplan.FixedTarget objects for each one in the table\n",
    "targets = [FixedTarget(coord=SkyCoord(ra=ra*u.deg, dec=dec*u.deg), name=name)\n",
    "           for name, ra, dec in target_table]"
   ]
  },
  {
   "cell_type": "code",
   "execution_count": 16,
   "metadata": {},
   "outputs": [
    {
     "name": "stdout",
     "output_type": "stream",
     "text": [
      "[<FixedTarget \"Polaris\" at SkyCoord (ICRS): (ra, dec) in deg ( 37.95456067,  89.26410897)>, <FixedTarget \"Vega\" at SkyCoord (ICRS): (ra, dec) in deg ( 279.23473479,  38.78368896)>, <FixedTarget \"Albireo\" at SkyCoord (ICRS): (ra, dec) in deg ( 292.68033548,  27.95968007)>, <FixedTarget \"Algol\" at SkyCoord (ICRS): (ra, dec) in deg ( 47.04221855,  40.95564667)>, <FixedTarget \"Rigel\" at SkyCoord (ICRS): (ra, dec) in deg ( 78.63446707, -8.20163837)>, <FixedTarget \"Regulus\" at SkyCoord (ICRS): (ra, dec) in deg ( 152.09296244,  11.96720878)>]\n"
     ]
    }
   ],
   "source": [
    "print(targets)"
   ]
  },
  {
   "cell_type": "code",
   "execution_count": 17,
   "metadata": {},
   "outputs": [
    {
     "name": "stdout",
     "output_type": "stream",
     "text": [
      "key: Polaris.2015-08-01T06:00:00.000.MeridianConstraint\n",
      "k =  Polaris.2015-08-01T06:00:00.000.MeridianConstraint\n"
     ]
    }
   ],
   "source": [
    "k = get_key(\"MeridianConstraint\", targets[0].name, times[0])\n",
    "if True:\n",
    "    print(\"k = \", k)"
   ]
  },
  {
   "cell_type": "code",
   "execution_count": 18,
   "metadata": {},
   "outputs": [
    {
     "name": "stdout",
     "output_type": "stream",
     "text": [
      "sql:  REPLACE INTO scores VALUES ('Polaris.2015-08-01T06:00:00.000.MeridianConstraint', 0.3424)\n"
     ]
    }
   ],
   "source": [
    "conn = sqlite3.connect(sqlite_file)\n",
    "conn.row_factory = dict_factory\n",
    "value = 0.3424\n",
    "# conn = sqlite3.connect(sqlite_file, timeout=10)\n",
    "set_score(conn, k, value)"
   ]
  },
  {
   "cell_type": "code",
   "execution_count": 19,
   "metadata": {},
   "outputs": [
    {
     "name": "stdout",
     "output_type": "stream",
     "text": [
      "score =  {'key': 'Polaris.2015-08-01T06:00:00.000.MeridianConstraint', 'value': 0.3424}\n"
     ]
    }
   ],
   "source": [
    "# conn = sqlite3.connect(sqlite_file, timeout=10)\n",
    "s = get_score(conn, k)\n",
    "print(\"score = \", repr(s))"
   ]
  },
  {
   "cell_type": "code",
   "execution_count": 20,
   "metadata": {
    "collapsed": true
   },
   "outputs": [],
   "source": [
    "-"
   ]
  },
  {
   "cell_type": "code",
   "execution_count": 21,
   "metadata": {
    "collapsed": true
   },
   "outputs": [],
   "source": [
    "m = MeridianConstraint( mode=\"sunset\",\n",
    "                 min_alt_degrees=20 * u.deg,\n",
    "                 max_solar_altitude=-12 * u.deg,\n",
    "                 grid_times_targets=False, \n",
    "                 debug=True)"
   ]
  },
  {
   "cell_type": "code",
   "execution_count": 22,
   "metadata": {},
   "outputs": [
    {
     "name": "stdout",
     "output_type": "stream",
     "text": [
      "Constraint name:  'MeridianConstraint'\n"
     ]
    }
   ],
   "source": [
    "print(\"Constraint name: \", repr(type(m).__name__))"
   ]
  },
  {
   "cell_type": "code",
   "execution_count": 23,
   "metadata": {},
   "outputs": [
    {
     "name": "stdout",
     "output_type": "stream",
     "text": [
      "target:  <FixedTarget \"Polaris\" at SkyCoord (ICRS): (ra, dec) in deg ( 37.95456067,  89.26410897)>\n",
      "key: Polaris.2015-08-01T06:00:00.000.MeridianConstraint\n",
      "Using saved score. 0.3424\n"
     ]
    },
    {
     "name": "stderr",
     "output_type": "stream",
     "text": [
      "WARNING: TargetAlwaysUpWarning: Target with index 0 does not cross horizon=20.0 deg within 24 hours [astroplan.observer]\n",
      "WARNING: ErfaWarning: ERFA function \"utctai\" yielded 1 of \"dubious year (Note 3)\" [astropy._erfa.core]\n"
     ]
    },
    {
     "name": "stdout",
     "output_type": "stream",
     "text": [
      "sql:  REPLACE INTO scores VALUES ('Polaris.2015-08-01T06:00:00.000.MeridianConstraint', 0.36720391455623835)\n",
      "key: Polaris.2015-08-01T12:00:00.000.MeridianConstraint\n",
      "Using saved score. 0.8672034377190802\n",
      "sql:  REPLACE INTO scores VALUES ('Polaris.2015-08-01T12:00:00.000.MeridianConstraint', 0.8672034377190802)\n",
      "target:  <FixedTarget \"Vega\" at SkyCoord (ICRS): (ra, dec) in deg ( 279.23473479,  38.78368896)>\n",
      "key: Vega.2015-08-01T06:00:00.000.MeridianConstraint\n",
      "Using saved score. 0.9485614448785782\n",
      "sql:  REPLACE INTO scores VALUES ('Vega.2015-08-01T06:00:00.000.MeridianConstraint', 0.9485614448785782)\n",
      "key: Vega.2015-08-01T12:00:00.000.MeridianConstraint\n",
      "Using saved score. 0.4486174117801366\n",
      "sql:  REPLACE INTO scores VALUES ('Vega.2015-08-01T12:00:00.000.MeridianConstraint', 0.4486174117801366)\n",
      "target:  <FixedTarget \"Albireo\" at SkyCoord (ICRS): (ra, dec) in deg ( 292.68033548,  27.95968007)>\n",
      "key: Albireo.2015-08-01T06:00:00.000.MeridianConstraint\n",
      "Using saved score. 0.9765930855605337\n",
      "sql:  REPLACE INTO scores VALUES ('Albireo.2015-08-01T06:00:00.000.MeridianConstraint', 0.9765930855605337)\n",
      "key: Albireo.2015-08-01T12:00:00.000.MeridianConstraint\n",
      "Using saved score. 0.5232069483068253\n",
      "sql:  REPLACE INTO scores VALUES ('Albireo.2015-08-01T12:00:00.000.MeridianConstraint', 0.5232069483068253)\n",
      "target:  <FixedTarget \"Algol\" at SkyCoord (ICRS): (ra, dec) in deg ( 47.04221855,  40.95564667)>\n",
      "key: Algol.2015-08-01T06:00:00.000.MeridianConstraint\n",
      "Using saved score. 0.3426400301964194\n",
      "sql:  REPLACE INTO scores VALUES ('Algol.2015-08-01T06:00:00.000.MeridianConstraint', 0.3426400301964194)\n",
      "key: Algol.2015-08-01T12:00:00.000.MeridianConstraint\n",
      "Using saved score. 0.842616540375683\n",
      "sql:  REPLACE INTO scores VALUES ('Algol.2015-08-01T12:00:00.000.MeridianConstraint', 0.842616540375683)\n",
      "target:  <FixedTarget \"Rigel\" at SkyCoord (ICRS): (ra, dec) in deg ( 78.63446707, -8.20163837)>\n",
      "key: Rigel.2015-08-01T06:00:00.000.MeridianConstraint\n",
      "Using saved score. 0.16800771560381955\n",
      "sql:  REPLACE INTO scores VALUES ('Rigel.2015-08-01T06:00:00.000.MeridianConstraint', 0.16800771560381955)\n",
      "key: Rigel.2015-08-01T12:00:00.000.MeridianConstraint\n",
      "Using saved score. 0.668005728158686\n",
      "sql:  REPLACE INTO scores VALUES ('Rigel.2015-08-01T12:00:00.000.MeridianConstraint', 0.668005728158686)\n",
      "target:  <FixedTarget \"Regulus\" at SkyCoord (ICRS): (ra, dec) in deg ( 152.09296244,  11.96720878)>\n",
      "key: Regulus.2015-08-01T06:00:00.000.MeridianConstraint\n",
      "Using saved score. 0.24455533642459804\n",
      "sql:  REPLACE INTO scores VALUES ('Regulus.2015-08-01T06:00:00.000.MeridianConstraint', 0.24455533642459804)\n",
      "key: Regulus.2015-08-01T12:00:00.000.MeridianConstraint\n",
      "Using saved score. 0.2609162507564933\n",
      "sql:  REPLACE INTO scores VALUES ('Regulus.2015-08-01T12:00:00.000.MeridianConstraint', 0.2609162507564933)\n",
      "mask\n",
      "[0.36720391455623835, 0.8672034377190802, 0.9485614448785782, 0.4486174117801366, 0.9765930855605337, 0.5232069483068253, 0.3426400301964194, 0.842616540375683, 0.16800771560381955, 0.668005728158686, 0.24455533642459804, 0.2609162507564933]\n",
      "a\n",
      "array([[ 0.36720391,  0.86720344],\n",
      "       [ 0.94856144,  0.44861741],\n",
      "       [ 0.97659309,  0.52320695],\n",
      "       [ 0.34264003,  0.84261654],\n",
      "       [ 0.16800772,  0.66800573],\n",
      "       [ 0.24455534,  0.26091625]])\n"
     ]
    },
    {
     "data": {
      "text/plain": [
       "array([[ 0.36720391,  0.86720344],\n",
       "       [ 0.94856144,  0.44861741],\n",
       "       [ 0.97659309,  0.52320695],\n",
       "       [ 0.34264003,  0.84261654],\n",
       "       [ 0.16800772,  0.66800573],\n",
       "       [ 0.24455534,  0.26091625]])"
      ]
     },
     "execution_count": 23,
     "metadata": {},
     "output_type": "execute_result"
    }
   ],
   "source": [
    "m.compute_constraint(times, mmto, targets)"
   ]
  },
  {
   "cell_type": "code",
   "execution_count": 24,
   "metadata": {},
   "outputs": [
    {
     "name": "stdout",
     "output_type": "stream",
     "text": [
      "targets:  [<FixedTarget \"Polaris\" at SkyCoord (ICRS): (ra, dec) in deg ( 37.95456067,  89.26410897)>, <FixedTarget \"Vega\" at SkyCoord (ICRS): (ra, dec) in deg ( 279.23473479,  38.78368896)>, <FixedTarget \"Albireo\" at SkyCoord (ICRS): (ra, dec) in deg ( 292.68033548,  27.95968007)>, <FixedTarget \"Algol\" at SkyCoord (ICRS): (ra, dec) in deg ( 47.04221855,  40.95564667)>, <FixedTarget \"Rigel\" at SkyCoord (ICRS): (ra, dec) in deg ( 78.63446707, -8.20163837)>, <FixedTarget \"Regulus\" at SkyCoord (ICRS): (ra, dec) in deg ( 152.09296244,  11.96720878)>]\n"
     ]
    }
   ],
   "source": [
    "print(\"targets: \", repr(targets))"
   ]
  },
  {
   "cell_type": "code",
   "execution_count": 25,
   "metadata": {},
   "outputs": [
    {
     "name": "stdout",
     "output_type": "stream",
     "text": [
      "target:  <FixedTarget \"Polaris\" at SkyCoord (ICRS): (ra, dec) in deg ( 37.95456067,  89.26410897)>\n",
      "key: Polaris.2015-08-01T06:00:00.000.MeridianConstraint\n",
      "Using saved score. 0.36720391455623835\n"
     ]
    },
    {
     "name": "stderr",
     "output_type": "stream",
     "text": [
      "WARNING: TargetAlwaysUpWarning: Target with index 0 does not cross horizon=20.0 deg within 24 hours [astroplan.observer]\n",
      "WARNING: ErfaWarning: ERFA function \"utctai\" yielded 1 of \"dubious year (Note 3)\" [astropy._erfa.core]\n"
     ]
    },
    {
     "name": "stdout",
     "output_type": "stream",
     "text": [
      "sql:  REPLACE INTO scores VALUES ('Polaris.2015-08-01T06:00:00.000.MeridianConstraint', 0.36720391455623835)\n",
      "key: Polaris.2015-08-01T12:00:00.000.MeridianConstraint\n",
      "Using saved score. 0.8672034377190802\n",
      "sql:  REPLACE INTO scores VALUES ('Polaris.2015-08-01T12:00:00.000.MeridianConstraint', 0.8672034377190802)\n",
      "target:  <FixedTarget \"Vega\" at SkyCoord (ICRS): (ra, dec) in deg ( 279.23473479,  38.78368896)>\n",
      "key: Vega.2015-08-01T06:00:00.000.MeridianConstraint\n",
      "Using saved score. 0.9485614448785782\n",
      "sql:  REPLACE INTO scores VALUES ('Vega.2015-08-01T06:00:00.000.MeridianConstraint', 0.9485614448785782)\n",
      "key: Vega.2015-08-01T12:00:00.000.MeridianConstraint\n",
      "Using saved score. 0.4486174117801366\n",
      "sql:  REPLACE INTO scores VALUES ('Vega.2015-08-01T12:00:00.000.MeridianConstraint', 0.4486174117801366)\n",
      "target:  <FixedTarget \"Albireo\" at SkyCoord (ICRS): (ra, dec) in deg ( 292.68033548,  27.95968007)>\n",
      "key: Albireo.2015-08-01T06:00:00.000.MeridianConstraint\n",
      "Using saved score. 0.9765930855605337\n",
      "sql:  REPLACE INTO scores VALUES ('Albireo.2015-08-01T06:00:00.000.MeridianConstraint', 0.9765930855605337)\n",
      "key: Albireo.2015-08-01T12:00:00.000.MeridianConstraint\n",
      "Using saved score. 0.5232069483068253\n",
      "sql:  REPLACE INTO scores VALUES ('Albireo.2015-08-01T12:00:00.000.MeridianConstraint', 0.5232069483068253)\n",
      "target:  <FixedTarget \"Algol\" at SkyCoord (ICRS): (ra, dec) in deg ( 47.04221855,  40.95564667)>\n",
      "key: Algol.2015-08-01T06:00:00.000.MeridianConstraint\n",
      "Using saved score. 0.3426400301964194\n",
      "sql:  REPLACE INTO scores VALUES ('Algol.2015-08-01T06:00:00.000.MeridianConstraint', 0.3426400301964194)\n",
      "key: Algol.2015-08-01T12:00:00.000.MeridianConstraint\n",
      "Using saved score. 0.842616540375683\n",
      "sql:  REPLACE INTO scores VALUES ('Algol.2015-08-01T12:00:00.000.MeridianConstraint', 0.842616540375683)\n",
      "target:  <FixedTarget \"Rigel\" at SkyCoord (ICRS): (ra, dec) in deg ( 78.63446707, -8.20163837)>\n",
      "key: Rigel.2015-08-01T06:00:00.000.MeridianConstraint\n",
      "Using saved score. 0.16800771560381955\n",
      "sql:  REPLACE INTO scores VALUES ('Rigel.2015-08-01T06:00:00.000.MeridianConstraint', 0.16800771560381955)\n",
      "key: Rigel.2015-08-01T12:00:00.000.MeridianConstraint\n",
      "Using saved score. 0.668005728158686\n",
      "sql:  REPLACE INTO scores VALUES ('Rigel.2015-08-01T12:00:00.000.MeridianConstraint', 0.668005728158686)\n",
      "target:  <FixedTarget \"Regulus\" at SkyCoord (ICRS): (ra, dec) in deg ( 152.09296244,  11.96720878)>\n",
      "key: Regulus.2015-08-01T06:00:00.000.MeridianConstraint\n",
      "Using saved score. 0.24455533642459804\n",
      "sql:  REPLACE INTO scores VALUES ('Regulus.2015-08-01T06:00:00.000.MeridianConstraint', 0.24455533642459804)\n",
      "key: Regulus.2015-08-01T12:00:00.000.MeridianConstraint\n",
      "Using saved score. 0.2609162507564933\n",
      "sql:  REPLACE INTO scores VALUES ('Regulus.2015-08-01T12:00:00.000.MeridianConstraint', 0.2609162507564933)\n",
      "mask\n",
      "[0.36720391455623835, 0.8672034377190802, 0.9485614448785782, 0.4486174117801366, 0.9765930855605337, 0.5232069483068253, 0.3426400301964194, 0.842616540375683, 0.16800771560381955, 0.668005728158686, 0.24455533642459804, 0.2609162507564933]\n",
      "a\n",
      "array([[ 0.36720391,  0.86720344],\n",
      "       [ 0.94856144,  0.44861741],\n",
      "       [ 0.97659309,  0.52320695],\n",
      "       [ 0.34264003,  0.84261654],\n",
      "       [ 0.16800772,  0.66800573],\n",
      "       [ 0.24455534,  0.26091625]])\n",
      "target:  <FixedTarget \"Polaris\" at SkyCoord (ICRS): (ra, dec) in deg ( 37.95456067,  89.26410897)>\n",
      "key: Polaris.2015-08-01T06:00:00.000.MeridianConstraint\n",
      "Using saved score. 0.36720391455623835\n",
      "sql:  REPLACE INTO scores VALUES ('Polaris.2015-08-01T06:00:00.000.MeridianConstraint', 0.36720391455623835)\n",
      "key: Polaris.2015-08-01T12:00:00.000.MeridianConstraint\n",
      "Using saved score. 0.8672034377190802\n",
      "sql:  REPLACE INTO scores VALUES ('Polaris.2015-08-01T12:00:00.000.MeridianConstraint', 0.8672034377190802)\n",
      "target:  <FixedTarget \"Vega\" at SkyCoord (ICRS): (ra, dec) in deg ( 279.23473479,  38.78368896)>\n",
      "key: Vega.2015-08-01T06:00:00.000.MeridianConstraint\n",
      "Using saved score. 0.9485614448785782\n",
      "sql:  REPLACE INTO scores VALUES ('Vega.2015-08-01T06:00:00.000.MeridianConstraint', 0.9485614448785782)\n",
      "key: Vega.2015-08-01T12:00:00.000.MeridianConstraint\n",
      "Using saved score. 0.4486174117801366\n",
      "sql:  REPLACE INTO scores VALUES ('Vega.2015-08-01T12:00:00.000.MeridianConstraint', 0.4486174117801366)\n",
      "target:  <FixedTarget \"Albireo\" at SkyCoord (ICRS): (ra, dec) in deg ( 292.68033548,  27.95968007)>\n",
      "key: Albireo.2015-08-01T06:00:00.000.MeridianConstraint\n",
      "Using saved score. 0.9765930855605337\n",
      "sql:  REPLACE INTO scores VALUES ('Albireo.2015-08-01T06:00:00.000.MeridianConstraint', 0.9765930855605337)\n",
      "key: Albireo.2015-08-01T12:00:00.000.MeridianConstraint\n",
      "Using saved score. 0.5232069483068253\n",
      "sql:  REPLACE INTO scores VALUES ('Albireo.2015-08-01T12:00:00.000.MeridianConstraint', 0.5232069483068253)\n",
      "target:  <FixedTarget \"Algol\" at SkyCoord (ICRS): (ra, dec) in deg ( 47.04221855,  40.95564667)>\n",
      "key: Algol.2015-08-01T06:00:00.000.MeridianConstraint\n",
      "Using saved score. 0.3426400301964194\n",
      "sql:  REPLACE INTO scores VALUES ('Algol.2015-08-01T06:00:00.000.MeridianConstraint', 0.3426400301964194)\n",
      "key: Algol.2015-08-01T12:00:00.000.MeridianConstraint\n",
      "Using saved score. 0.842616540375683\n",
      "sql:  REPLACE INTO scores VALUES ('Algol.2015-08-01T12:00:00.000.MeridianConstraint', 0.842616540375683)\n",
      "target:  <FixedTarget \"Rigel\" at SkyCoord (ICRS): (ra, dec) in deg ( 78.63446707, -8.20163837)>\n",
      "key: Rigel.2015-08-01T06:00:00.000.MeridianConstraint\n",
      "Using saved score. 0.16800771560381955\n",
      "sql:  REPLACE INTO scores VALUES ('Rigel.2015-08-01T06:00:00.000.MeridianConstraint', 0.16800771560381955)\n",
      "key: Rigel.2015-08-01T12:00:00.000.MeridianConstraint\n",
      "Using saved score. 0.668005728158686\n",
      "sql:  REPLACE INTO scores VALUES ('Rigel.2015-08-01T12:00:00.000.MeridianConstraint', 0.668005728158686)\n",
      "target:  <FixedTarget \"Regulus\" at SkyCoord (ICRS): (ra, dec) in deg ( 152.09296244,  11.96720878)>\n",
      "key: Regulus.2015-08-01T06:00:00.000.MeridianConstraint\n",
      "Using saved score. 0.24455533642459804\n",
      "sql:  REPLACE INTO scores VALUES ('Regulus.2015-08-01T06:00:00.000.MeridianConstraint', 0.24455533642459804)\n",
      "key: Regulus.2015-08-01T12:00:00.000.MeridianConstraint\n",
      "Using saved score. 0.2609162507564933\n",
      "sql:  REPLACE INTO scores VALUES ('Regulus.2015-08-01T12:00:00.000.MeridianConstraint', 0.2609162507564933)\n",
      "mask\n",
      "[0.36720391455623835, 0.8672034377190802, 0.9485614448785782, 0.4486174117801366, 0.9765930855605337, 0.5232069483068253, 0.3426400301964194, 0.842616540375683, 0.16800771560381955, 0.668005728158686, 0.24455533642459804, 0.2609162507564933]\n",
      "a\n",
      "array([[ 0.36720391,  0.86720344],\n",
      "       [ 0.94856144,  0.44861741],\n",
      "       [ 0.97659309,  0.52320695],\n",
      "       [ 0.34264003,  0.84261654],\n",
      "       [ 0.16800772,  0.66800573],\n",
      "       [ 0.24455534,  0.26091625]])\n",
      "target:  <FixedTarget \"Polaris\" at SkyCoord (ICRS): (ra, dec) in deg ( 37.95456067,  89.26410897)>\n",
      "key: Polaris.2015-08-01T06:00:00.000.MeridianConstraint\n",
      "Using saved score. 0.36720391455623835\n",
      "sql:  REPLACE INTO scores VALUES ('Polaris.2015-08-01T06:00:00.000.MeridianConstraint', 0.36720391455623835)\n",
      "key: Polaris.2015-08-01T12:00:00.000.MeridianConstraint\n",
      "Using saved score. 0.8672034377190802\n",
      "sql:  REPLACE INTO scores VALUES ('Polaris.2015-08-01T12:00:00.000.MeridianConstraint', 0.8672034377190802)\n",
      "target:  <FixedTarget \"Vega\" at SkyCoord (ICRS): (ra, dec) in deg ( 279.23473479,  38.78368896)>\n",
      "key: Vega.2015-08-01T06:00:00.000.MeridianConstraint\n",
      "Using saved score. 0.9485614448785782\n",
      "sql:  REPLACE INTO scores VALUES ('Vega.2015-08-01T06:00:00.000.MeridianConstraint', 0.9485614448785782)\n",
      "key: Vega.2015-08-01T12:00:00.000.MeridianConstraint\n",
      "Using saved score. 0.4486174117801366\n",
      "sql:  REPLACE INTO scores VALUES ('Vega.2015-08-01T12:00:00.000.MeridianConstraint', 0.4486174117801366)\n",
      "target:  <FixedTarget \"Albireo\" at SkyCoord (ICRS): (ra, dec) in deg ( 292.68033548,  27.95968007)>\n",
      "key: Albireo.2015-08-01T06:00:00.000.MeridianConstraint\n",
      "Using saved score. 0.9765930855605337\n",
      "sql:  REPLACE INTO scores VALUES ('Albireo.2015-08-01T06:00:00.000.MeridianConstraint', 0.9765930855605337)\n",
      "key: Albireo.2015-08-01T12:00:00.000.MeridianConstraint\n",
      "Using saved score. 0.5232069483068253\n",
      "sql:  REPLACE INTO scores VALUES ('Albireo.2015-08-01T12:00:00.000.MeridianConstraint', 0.5232069483068253)\n",
      "target:  <FixedTarget \"Algol\" at SkyCoord (ICRS): (ra, dec) in deg ( 47.04221855,  40.95564667)>\n",
      "key: Algol.2015-08-01T06:00:00.000.MeridianConstraint\n",
      "Using saved score. 0.3426400301964194\n"
     ]
    },
    {
     "name": "stdout",
     "output_type": "stream",
     "text": [
      "sql:  REPLACE INTO scores VALUES ('Algol.2015-08-01T06:00:00.000.MeridianConstraint', 0.3426400301964194)\n",
      "key: Algol.2015-08-01T12:00:00.000.MeridianConstraint\n",
      "Using saved score. 0.842616540375683\n",
      "sql:  REPLACE INTO scores VALUES ('Algol.2015-08-01T12:00:00.000.MeridianConstraint', 0.842616540375683)\n",
      "target:  <FixedTarget \"Rigel\" at SkyCoord (ICRS): (ra, dec) in deg ( 78.63446707, -8.20163837)>\n",
      "key: Rigel.2015-08-01T06:00:00.000.MeridianConstraint\n",
      "Using saved score. 0.16800771560381955\n",
      "sql:  REPLACE INTO scores VALUES ('Rigel.2015-08-01T06:00:00.000.MeridianConstraint', 0.16800771560381955)\n",
      "key: Rigel.2015-08-01T12:00:00.000.MeridianConstraint\n",
      "Using saved score. 0.668005728158686\n",
      "sql:  REPLACE INTO scores VALUES ('Rigel.2015-08-01T12:00:00.000.MeridianConstraint', 0.668005728158686)\n",
      "target:  <FixedTarget \"Regulus\" at SkyCoord (ICRS): (ra, dec) in deg ( 152.09296244,  11.96720878)>\n",
      "key: Regulus.2015-08-01T06:00:00.000.MeridianConstraint\n",
      "Using saved score. 0.24455533642459804\n",
      "sql:  REPLACE INTO scores VALUES ('Regulus.2015-08-01T06:00:00.000.MeridianConstraint', 0.24455533642459804)\n",
      "key: Regulus.2015-08-01T12:00:00.000.MeridianConstraint\n",
      "Using saved score. 0.2609162507564933\n",
      "sql:  REPLACE INTO scores VALUES ('Regulus.2015-08-01T12:00:00.000.MeridianConstraint', 0.2609162507564933)\n",
      "mask\n",
      "[0.36720391455623835, 0.8672034377190802, 0.9485614448785782, 0.4486174117801366, 0.9765930855605337, 0.5232069483068253, 0.3426400301964194, 0.842616540375683, 0.16800771560381955, 0.668005728158686, 0.24455533642459804, 0.2609162507564933]\n",
      "a\n",
      "array([[ 0.36720391,  0.86720344],\n",
      "       [ 0.94856144,  0.44861741],\n",
      "       [ 0.97659309,  0.52320695],\n",
      "       [ 0.34264003,  0.84261654],\n",
      "       [ 0.16800772,  0.66800573],\n",
      "       [ 0.24455534,  0.26091625]])\n",
      "target:  <FixedTarget \"Polaris\" at SkyCoord (ICRS): (ra, dec) in deg ( 37.95456067,  89.26410897)>\n",
      "key: Polaris.2015-08-01T06:00:00.000.MeridianConstraint\n",
      "Using saved score. 0.36720391455623835\n",
      "sql:  REPLACE INTO scores VALUES ('Polaris.2015-08-01T06:00:00.000.MeridianConstraint', 0.36720391455623835)\n",
      "key: Polaris.2015-08-01T12:00:00.000.MeridianConstraint\n",
      "Using saved score. 0.8672034377190802\n",
      "sql:  REPLACE INTO scores VALUES ('Polaris.2015-08-01T12:00:00.000.MeridianConstraint', 0.8672034377190802)\n",
      "target:  <FixedTarget \"Vega\" at SkyCoord (ICRS): (ra, dec) in deg ( 279.23473479,  38.78368896)>\n",
      "key: Vega.2015-08-01T06:00:00.000.MeridianConstraint\n",
      "Using saved score. 0.9485614448785782\n",
      "sql:  REPLACE INTO scores VALUES ('Vega.2015-08-01T06:00:00.000.MeridianConstraint', 0.9485614448785782)\n",
      "key: Vega.2015-08-01T12:00:00.000.MeridianConstraint\n",
      "Using saved score. 0.4486174117801366\n",
      "sql:  REPLACE INTO scores VALUES ('Vega.2015-08-01T12:00:00.000.MeridianConstraint', 0.4486174117801366)\n",
      "target:  <FixedTarget \"Albireo\" at SkyCoord (ICRS): (ra, dec) in deg ( 292.68033548,  27.95968007)>\n",
      "key: Albireo.2015-08-01T06:00:00.000.MeridianConstraint\n",
      "Using saved score. 0.9765930855605337\n",
      "sql:  REPLACE INTO scores VALUES ('Albireo.2015-08-01T06:00:00.000.MeridianConstraint', 0.9765930855605337)\n",
      "key: Albireo.2015-08-01T12:00:00.000.MeridianConstraint\n",
      "Using saved score. 0.5232069483068253\n",
      "sql:  REPLACE INTO scores VALUES ('Albireo.2015-08-01T12:00:00.000.MeridianConstraint', 0.5232069483068253)\n",
      "target:  <FixedTarget \"Algol\" at SkyCoord (ICRS): (ra, dec) in deg ( 47.04221855,  40.95564667)>\n",
      "key: Algol.2015-08-01T06:00:00.000.MeridianConstraint\n",
      "Using saved score. 0.3426400301964194\n",
      "sql:  REPLACE INTO scores VALUES ('Algol.2015-08-01T06:00:00.000.MeridianConstraint', 0.3426400301964194)\n",
      "key: Algol.2015-08-01T12:00:00.000.MeridianConstraint\n",
      "Using saved score. 0.842616540375683\n",
      "sql:  REPLACE INTO scores VALUES ('Algol.2015-08-01T12:00:00.000.MeridianConstraint', 0.842616540375683)\n",
      "target:  <FixedTarget \"Rigel\" at SkyCoord (ICRS): (ra, dec) in deg ( 78.63446707, -8.20163837)>\n",
      "key: Rigel.2015-08-01T06:00:00.000.MeridianConstraint\n",
      "Using saved score. 0.16800771560381955\n",
      "sql:  REPLACE INTO scores VALUES ('Rigel.2015-08-01T06:00:00.000.MeridianConstraint', 0.16800771560381955)\n",
      "key: Rigel.2015-08-01T12:00:00.000.MeridianConstraint\n",
      "Using saved score. 0.668005728158686\n",
      "sql:  REPLACE INTO scores VALUES ('Rigel.2015-08-01T12:00:00.000.MeridianConstraint', 0.668005728158686)\n",
      "target:  <FixedTarget \"Regulus\" at SkyCoord (ICRS): (ra, dec) in deg ( 152.09296244,  11.96720878)>\n",
      "key: Regulus.2015-08-01T06:00:00.000.MeridianConstraint\n",
      "Using saved score. 0.24455533642459804\n",
      "sql:  REPLACE INTO scores VALUES ('Regulus.2015-08-01T06:00:00.000.MeridianConstraint', 0.24455533642459804)\n",
      "key: Regulus.2015-08-01T12:00:00.000.MeridianConstraint\n",
      "Using saved score. 0.2609162507564933\n",
      "sql:  REPLACE INTO scores VALUES ('Regulus.2015-08-01T12:00:00.000.MeridianConstraint', 0.2609162507564933)\n",
      "mask\n",
      "[0.36720391455623835, 0.8672034377190802, 0.9485614448785782, 0.4486174117801366, 0.9765930855605337, 0.5232069483068253, 0.3426400301964194, 0.842616540375683, 0.16800771560381955, 0.668005728158686, 0.24455533642459804, 0.2609162507564933]\n",
      "a\n",
      "array([[ 0.36720391,  0.86720344],\n",
      "       [ 0.94856144,  0.44861741],\n",
      "       [ 0.97659309,  0.52320695],\n",
      "       [ 0.34264003,  0.84261654],\n",
      "       [ 0.16800772,  0.66800573],\n",
      "       [ 0.24455534,  0.26091625]])\n",
      "target:  <FixedTarget \"Polaris\" at SkyCoord (ICRS): (ra, dec) in deg ( 37.95456067,  89.26410897)>\n",
      "key: Polaris.2015-08-01T06:00:00.000.MeridianConstraint\n",
      "Using saved score. 0.36720391455623835\n",
      "sql:  REPLACE INTO scores VALUES ('Polaris.2015-08-01T06:00:00.000.MeridianConstraint', 0.36720391455623835)\n",
      "key: Polaris.2015-08-01T12:00:00.000.MeridianConstraint\n",
      "Using saved score. 0.8672034377190802\n",
      "sql:  REPLACE INTO scores VALUES ('Polaris.2015-08-01T12:00:00.000.MeridianConstraint', 0.8672034377190802)\n",
      "target:  <FixedTarget \"Vega\" at SkyCoord (ICRS): (ra, dec) in deg ( 279.23473479,  38.78368896)>\n",
      "key: Vega.2015-08-01T06:00:00.000.MeridianConstraint\n",
      "Using saved score. 0.9485614448785782\n",
      "sql:  REPLACE INTO scores VALUES ('Vega.2015-08-01T06:00:00.000.MeridianConstraint', 0.9485614448785782)\n",
      "key: Vega.2015-08-01T12:00:00.000.MeridianConstraint\n",
      "Using saved score. 0.4486174117801366\n",
      "sql:  REPLACE INTO scores VALUES ('Vega.2015-08-01T12:00:00.000.MeridianConstraint', 0.4486174117801366)\n",
      "target:  <FixedTarget \"Albireo\" at SkyCoord (ICRS): (ra, dec) in deg ( 292.68033548,  27.95968007)>\n",
      "key: Albireo.2015-08-01T06:00:00.000.MeridianConstraint\n",
      "Using saved score. 0.9765930855605337\n",
      "sql:  REPLACE INTO scores VALUES ('Albireo.2015-08-01T06:00:00.000.MeridianConstraint', 0.9765930855605337)\n",
      "key: Albireo.2015-08-01T12:00:00.000.MeridianConstraint\n",
      "Using saved score. 0.5232069483068253\n",
      "sql:  REPLACE INTO scores VALUES ('Albireo.2015-08-01T12:00:00.000.MeridianConstraint', 0.5232069483068253)\n",
      "target:  <FixedTarget \"Algol\" at SkyCoord (ICRS): (ra, dec) in deg ( 47.04221855,  40.95564667)>\n",
      "key: Algol.2015-08-01T06:00:00.000.MeridianConstraint\n",
      "Using saved score. 0.3426400301964194\n",
      "sql:  REPLACE INTO scores VALUES ('Algol.2015-08-01T06:00:00.000.MeridianConstraint', 0.3426400301964194)\n",
      "key: Algol.2015-08-01T12:00:00.000.MeridianConstraint\n",
      "Using saved score. 0.842616540375683\n",
      "sql:  REPLACE INTO scores VALUES ('Algol.2015-08-01T12:00:00.000.MeridianConstraint', 0.842616540375683)\n",
      "target:  <FixedTarget \"Rigel\" at SkyCoord (ICRS): (ra, dec) in deg ( 78.63446707, -8.20163837)>\n",
      "key: Rigel.2015-08-01T06:00:00.000.MeridianConstraint\n",
      "Using saved score. 0.16800771560381955\n",
      "sql:  REPLACE INTO scores VALUES ('Rigel.2015-08-01T06:00:00.000.MeridianConstraint', 0.16800771560381955)\n",
      "key: Rigel.2015-08-01T12:00:00.000.MeridianConstraint\n",
      "Using saved score. 0.668005728158686\n",
      "sql:  REPLACE INTO scores VALUES ('Rigel.2015-08-01T12:00:00.000.MeridianConstraint', 0.668005728158686)\n",
      "target:  <FixedTarget \"Regulus\" at SkyCoord (ICRS): (ra, dec) in deg ( 152.09296244,  11.96720878)>\n",
      "key: Regulus.2015-08-01T06:00:00.000.MeridianConstraint\n",
      "Using saved score. 0.24455533642459804\n",
      "sql:  REPLACE INTO scores VALUES ('Regulus.2015-08-01T06:00:00.000.MeridianConstraint', 0.24455533642459804)\n",
      "key: Regulus.2015-08-01T12:00:00.000.MeridianConstraint\n",
      "Using saved score. 0.2609162507564933\n",
      "sql:  REPLACE INTO scores VALUES ('Regulus.2015-08-01T12:00:00.000.MeridianConstraint', 0.2609162507564933)\n",
      "mask\n",
      "[0.36720391455623835, 0.8672034377190802, 0.9485614448785782, 0.4486174117801366, 0.9765930855605337, 0.5232069483068253, 0.3426400301964194, 0.842616540375683, 0.16800771560381955, 0.668005728158686, 0.24455533642459804, 0.2609162507564933]\n",
      "a\n",
      "array([[ 0.36720391,  0.86720344],\n",
      "       [ 0.94856144,  0.44861741],\n",
      "       [ 0.97659309,  0.52320695],\n",
      "       [ 0.34264003,  0.84261654],\n",
      "       [ 0.16800772,  0.66800573],\n",
      "       [ 0.24455534,  0.26091625]])\n",
      "target:  <FixedTarget \"Polaris\" at SkyCoord (ICRS): (ra, dec) in deg ( 37.95456067,  89.26410897)>\n",
      "key: Polaris.2015-08-01T06:00:00.000.MeridianConstraint\n",
      "Using saved score. 0.36720391455623835\n"
     ]
    },
    {
     "name": "stdout",
     "output_type": "stream",
     "text": [
      "sql:  REPLACE INTO scores VALUES ('Polaris.2015-08-01T06:00:00.000.MeridianConstraint', 0.36720391455623835)\n",
      "key: Polaris.2015-08-01T12:00:00.000.MeridianConstraint\n",
      "Using saved score. 0.8672034377190802\n",
      "sql:  REPLACE INTO scores VALUES ('Polaris.2015-08-01T12:00:00.000.MeridianConstraint', 0.8672034377190802)\n",
      "target:  <FixedTarget \"Vega\" at SkyCoord (ICRS): (ra, dec) in deg ( 279.23473479,  38.78368896)>\n",
      "key: Vega.2015-08-01T06:00:00.000.MeridianConstraint\n",
      "Using saved score. 0.9485614448785782\n",
      "sql:  REPLACE INTO scores VALUES ('Vega.2015-08-01T06:00:00.000.MeridianConstraint', 0.9485614448785782)\n",
      "key: Vega.2015-08-01T12:00:00.000.MeridianConstraint\n",
      "Using saved score. 0.4486174117801366\n",
      "sql:  REPLACE INTO scores VALUES ('Vega.2015-08-01T12:00:00.000.MeridianConstraint', 0.4486174117801366)\n",
      "target:  <FixedTarget \"Albireo\" at SkyCoord (ICRS): (ra, dec) in deg ( 292.68033548,  27.95968007)>\n",
      "key: Albireo.2015-08-01T06:00:00.000.MeridianConstraint\n",
      "Using saved score. 0.9765930855605337\n",
      "sql:  REPLACE INTO scores VALUES ('Albireo.2015-08-01T06:00:00.000.MeridianConstraint', 0.9765930855605337)\n",
      "key: Albireo.2015-08-01T12:00:00.000.MeridianConstraint\n",
      "Using saved score. 0.5232069483068253\n",
      "sql:  REPLACE INTO scores VALUES ('Albireo.2015-08-01T12:00:00.000.MeridianConstraint', 0.5232069483068253)\n",
      "target:  <FixedTarget \"Algol\" at SkyCoord (ICRS): (ra, dec) in deg ( 47.04221855,  40.95564667)>\n",
      "key: Algol.2015-08-01T06:00:00.000.MeridianConstraint\n",
      "Using saved score. 0.3426400301964194\n",
      "sql:  REPLACE INTO scores VALUES ('Algol.2015-08-01T06:00:00.000.MeridianConstraint', 0.3426400301964194)\n",
      "key: Algol.2015-08-01T12:00:00.000.MeridianConstraint\n",
      "Using saved score. 0.842616540375683\n",
      "sql:  REPLACE INTO scores VALUES ('Algol.2015-08-01T12:00:00.000.MeridianConstraint', 0.842616540375683)\n",
      "target:  <FixedTarget \"Rigel\" at SkyCoord (ICRS): (ra, dec) in deg ( 78.63446707, -8.20163837)>\n",
      "key: Rigel.2015-08-01T06:00:00.000.MeridianConstraint\n",
      "Using saved score. 0.16800771560381955\n",
      "sql:  REPLACE INTO scores VALUES ('Rigel.2015-08-01T06:00:00.000.MeridianConstraint', 0.16800771560381955)\n",
      "key: Rigel.2015-08-01T12:00:00.000.MeridianConstraint\n",
      "Using saved score. 0.668005728158686\n",
      "sql:  REPLACE INTO scores VALUES ('Rigel.2015-08-01T12:00:00.000.MeridianConstraint', 0.668005728158686)\n",
      "target:  <FixedTarget \"Regulus\" at SkyCoord (ICRS): (ra, dec) in deg ( 152.09296244,  11.96720878)>\n",
      "key: Regulus.2015-08-01T06:00:00.000.MeridianConstraint\n",
      "Using saved score. 0.24455533642459804\n",
      "sql:  REPLACE INTO scores VALUES ('Regulus.2015-08-01T06:00:00.000.MeridianConstraint', 0.24455533642459804)\n",
      "key: Regulus.2015-08-01T12:00:00.000.MeridianConstraint\n",
      "Using saved score. 0.2609162507564933\n",
      "sql:  REPLACE INTO scores VALUES ('Regulus.2015-08-01T12:00:00.000.MeridianConstraint', 0.2609162507564933)\n",
      "mask\n",
      "[0.36720391455623835, 0.8672034377190802, 0.9485614448785782, 0.4486174117801366, 0.9765930855605337, 0.5232069483068253, 0.3426400301964194, 0.842616540375683, 0.16800771560381955, 0.668005728158686, 0.24455533642459804, 0.2609162507564933]\n",
      "a\n",
      "array([[ 0.36720391,  0.86720344],\n",
      "       [ 0.94856144,  0.44861741],\n",
      "       [ 0.97659309,  0.52320695],\n",
      "       [ 0.34264003,  0.84261654],\n",
      "       [ 0.16800772,  0.66800573],\n",
      "       [ 0.24455534,  0.26091625]])\n",
      "target:  <FixedTarget \"Polaris\" at SkyCoord (ICRS): (ra, dec) in deg ( 37.95456067,  89.26410897)>\n",
      "key: Polaris.2015-08-01T06:00:00.000.MeridianConstraint\n",
      "Using saved score. 0.36720391455623835\n",
      "sql:  REPLACE INTO scores VALUES ('Polaris.2015-08-01T06:00:00.000.MeridianConstraint', 0.36720391455623835)\n",
      "key: Polaris.2015-08-01T12:00:00.000.MeridianConstraint\n",
      "Using saved score. 0.8672034377190802\n",
      "sql:  REPLACE INTO scores VALUES ('Polaris.2015-08-01T12:00:00.000.MeridianConstraint', 0.8672034377190802)\n",
      "target:  <FixedTarget \"Vega\" at SkyCoord (ICRS): (ra, dec) in deg ( 279.23473479,  38.78368896)>\n",
      "key: Vega.2015-08-01T06:00:00.000.MeridianConstraint\n",
      "Using saved score. 0.9485614448785782\n",
      "sql:  REPLACE INTO scores VALUES ('Vega.2015-08-01T06:00:00.000.MeridianConstraint', 0.9485614448785782)\n",
      "key: Vega.2015-08-01T12:00:00.000.MeridianConstraint\n",
      "Using saved score. 0.4486174117801366\n",
      "sql:  REPLACE INTO scores VALUES ('Vega.2015-08-01T12:00:00.000.MeridianConstraint', 0.4486174117801366)\n",
      "target:  <FixedTarget \"Albireo\" at SkyCoord (ICRS): (ra, dec) in deg ( 292.68033548,  27.95968007)>\n",
      "key: Albireo.2015-08-01T06:00:00.000.MeridianConstraint\n",
      "Using saved score. 0.9765930855605337\n",
      "sql:  REPLACE INTO scores VALUES ('Albireo.2015-08-01T06:00:00.000.MeridianConstraint', 0.9765930855605337)\n",
      "key: Albireo.2015-08-01T12:00:00.000.MeridianConstraint\n",
      "Using saved score. 0.5232069483068253\n",
      "sql:  REPLACE INTO scores VALUES ('Albireo.2015-08-01T12:00:00.000.MeridianConstraint', 0.5232069483068253)\n",
      "target:  <FixedTarget \"Algol\" at SkyCoord (ICRS): (ra, dec) in deg ( 47.04221855,  40.95564667)>\n",
      "key: Algol.2015-08-01T06:00:00.000.MeridianConstraint\n",
      "Using saved score. 0.3426400301964194\n",
      "sql:  REPLACE INTO scores VALUES ('Algol.2015-08-01T06:00:00.000.MeridianConstraint', 0.3426400301964194)\n",
      "key: Algol.2015-08-01T12:00:00.000.MeridianConstraint\n",
      "Using saved score. 0.842616540375683\n",
      "sql:  REPLACE INTO scores VALUES ('Algol.2015-08-01T12:00:00.000.MeridianConstraint', 0.842616540375683)\n",
      "target:  <FixedTarget \"Rigel\" at SkyCoord (ICRS): (ra, dec) in deg ( 78.63446707, -8.20163837)>\n",
      "key: Rigel.2015-08-01T06:00:00.000.MeridianConstraint\n",
      "Using saved score. 0.16800771560381955\n",
      "sql:  REPLACE INTO scores VALUES ('Rigel.2015-08-01T06:00:00.000.MeridianConstraint', 0.16800771560381955)\n",
      "key: Rigel.2015-08-01T12:00:00.000.MeridianConstraint\n",
      "Using saved score. 0.668005728158686\n",
      "sql:  REPLACE INTO scores VALUES ('Rigel.2015-08-01T12:00:00.000.MeridianConstraint', 0.668005728158686)\n",
      "target:  <FixedTarget \"Regulus\" at SkyCoord (ICRS): (ra, dec) in deg ( 152.09296244,  11.96720878)>\n",
      "key: Regulus.2015-08-01T06:00:00.000.MeridianConstraint\n",
      "Using saved score. 0.24455533642459804\n",
      "sql:  REPLACE INTO scores VALUES ('Regulus.2015-08-01T06:00:00.000.MeridianConstraint', 0.24455533642459804)\n",
      "key: Regulus.2015-08-01T12:00:00.000.MeridianConstraint\n",
      "Using saved score. 0.2609162507564933\n",
      "sql:  REPLACE INTO scores VALUES ('Regulus.2015-08-01T12:00:00.000.MeridianConstraint', 0.2609162507564933)\n",
      "mask\n",
      "[0.36720391455623835, 0.8672034377190802, 0.9485614448785782, 0.4486174117801366, 0.9765930855605337, 0.5232069483068253, 0.3426400301964194, 0.842616540375683, 0.16800771560381955, 0.668005728158686, 0.24455533642459804, 0.2609162507564933]\n",
      "a\n",
      "array([[ 0.36720391,  0.86720344],\n",
      "       [ 0.94856144,  0.44861741],\n",
      "       [ 0.97659309,  0.52320695],\n",
      "       [ 0.34264003,  0.84261654],\n",
      "       [ 0.16800772,  0.66800573],\n",
      "       [ 0.24455534,  0.26091625]])\n",
      "target:  <FixedTarget \"Polaris\" at SkyCoord (ICRS): (ra, dec) in deg ( 37.95456067,  89.26410897)>\n",
      "key: Polaris.2015-08-01T06:00:00.000.MeridianConstraint\n",
      "Using saved score. 0.36720391455623835\n",
      "sql:  REPLACE INTO scores VALUES ('Polaris.2015-08-01T06:00:00.000.MeridianConstraint', 0.36720391455623835)\n",
      "key: Polaris.2015-08-01T12:00:00.000.MeridianConstraint\n",
      "Using saved score. 0.8672034377190802\n",
      "sql:  REPLACE INTO scores VALUES ('Polaris.2015-08-01T12:00:00.000.MeridianConstraint', 0.8672034377190802)\n",
      "target:  <FixedTarget \"Vega\" at SkyCoord (ICRS): (ra, dec) in deg ( 279.23473479,  38.78368896)>\n",
      "key: Vega.2015-08-01T06:00:00.000.MeridianConstraint\n",
      "Using saved score. 0.9485614448785782\n",
      "sql:  REPLACE INTO scores VALUES ('Vega.2015-08-01T06:00:00.000.MeridianConstraint', 0.9485614448785782)\n",
      "key: Vega.2015-08-01T12:00:00.000.MeridianConstraint\n",
      "Using saved score. 0.4486174117801366\n",
      "sql:  REPLACE INTO scores VALUES ('Vega.2015-08-01T12:00:00.000.MeridianConstraint', 0.4486174117801366)\n",
      "target:  <FixedTarget \"Albireo\" at SkyCoord (ICRS): (ra, dec) in deg ( 292.68033548,  27.95968007)>\n",
      "key: Albireo.2015-08-01T06:00:00.000.MeridianConstraint\n",
      "Using saved score. 0.9765930855605337\n",
      "sql:  REPLACE INTO scores VALUES ('Albireo.2015-08-01T06:00:00.000.MeridianConstraint', 0.9765930855605337)\n",
      "key: Albireo.2015-08-01T12:00:00.000.MeridianConstraint\n",
      "Using saved score. 0.5232069483068253\n",
      "sql:  REPLACE INTO scores VALUES ('Albireo.2015-08-01T12:00:00.000.MeridianConstraint', 0.5232069483068253)\n",
      "target:  <FixedTarget \"Algol\" at SkyCoord (ICRS): (ra, dec) in deg ( 47.04221855,  40.95564667)>\n",
      "key: Algol.2015-08-01T06:00:00.000.MeridianConstraint\n",
      "Using saved score. 0.3426400301964194\n"
     ]
    },
    {
     "name": "stdout",
     "output_type": "stream",
     "text": [
      "sql:  REPLACE INTO scores VALUES ('Algol.2015-08-01T06:00:00.000.MeridianConstraint', 0.3426400301964194)\n",
      "key: Algol.2015-08-01T12:00:00.000.MeridianConstraint\n",
      "Using saved score. 0.842616540375683\n",
      "sql:  REPLACE INTO scores VALUES ('Algol.2015-08-01T12:00:00.000.MeridianConstraint', 0.842616540375683)\n",
      "target:  <FixedTarget \"Rigel\" at SkyCoord (ICRS): (ra, dec) in deg ( 78.63446707, -8.20163837)>\n",
      "key: Rigel.2015-08-01T06:00:00.000.MeridianConstraint\n",
      "Using saved score. 0.16800771560381955\n",
      "sql:  REPLACE INTO scores VALUES ('Rigel.2015-08-01T06:00:00.000.MeridianConstraint', 0.16800771560381955)\n",
      "key: Rigel.2015-08-01T12:00:00.000.MeridianConstraint\n",
      "Using saved score. 0.668005728158686\n",
      "sql:  REPLACE INTO scores VALUES ('Rigel.2015-08-01T12:00:00.000.MeridianConstraint', 0.668005728158686)\n",
      "target:  <FixedTarget \"Regulus\" at SkyCoord (ICRS): (ra, dec) in deg ( 152.09296244,  11.96720878)>\n",
      "key: Regulus.2015-08-01T06:00:00.000.MeridianConstraint\n",
      "Using saved score. 0.24455533642459804\n",
      "sql:  REPLACE INTO scores VALUES ('Regulus.2015-08-01T06:00:00.000.MeridianConstraint', 0.24455533642459804)\n",
      "key: Regulus.2015-08-01T12:00:00.000.MeridianConstraint\n",
      "Using saved score. 0.2609162507564933\n",
      "sql:  REPLACE INTO scores VALUES ('Regulus.2015-08-01T12:00:00.000.MeridianConstraint', 0.2609162507564933)\n",
      "mask\n",
      "[0.36720391455623835, 0.8672034377190802, 0.9485614448785782, 0.4486174117801366, 0.9765930855605337, 0.5232069483068253, 0.3426400301964194, 0.842616540375683, 0.16800771560381955, 0.668005728158686, 0.24455533642459804, 0.2609162507564933]\n",
      "a\n",
      "array([[ 0.36720391,  0.86720344],\n",
      "       [ 0.94856144,  0.44861741],\n",
      "       [ 0.97659309,  0.52320695],\n",
      "       [ 0.34264003,  0.84261654],\n",
      "       [ 0.16800772,  0.66800573],\n",
      "       [ 0.24455534,  0.26091625]])\n",
      "target:  <FixedTarget \"Polaris\" at SkyCoord (ICRS): (ra, dec) in deg ( 37.95456067,  89.26410897)>\n",
      "key: Polaris.2015-08-01T06:00:00.000.MeridianConstraint\n",
      "Using saved score. 0.36720391455623835\n",
      "sql:  REPLACE INTO scores VALUES ('Polaris.2015-08-01T06:00:00.000.MeridianConstraint', 0.36720391455623835)\n",
      "key: Polaris.2015-08-01T12:00:00.000.MeridianConstraint\n",
      "Using saved score. 0.8672034377190802\n",
      "sql:  REPLACE INTO scores VALUES ('Polaris.2015-08-01T12:00:00.000.MeridianConstraint', 0.8672034377190802)\n",
      "target:  <FixedTarget \"Vega\" at SkyCoord (ICRS): (ra, dec) in deg ( 279.23473479,  38.78368896)>\n",
      "key: Vega.2015-08-01T06:00:00.000.MeridianConstraint\n",
      "Using saved score. 0.9485614448785782\n",
      "sql:  REPLACE INTO scores VALUES ('Vega.2015-08-01T06:00:00.000.MeridianConstraint', 0.9485614448785782)\n",
      "key: Vega.2015-08-01T12:00:00.000.MeridianConstraint\n",
      "Using saved score. 0.4486174117801366\n",
      "sql:  REPLACE INTO scores VALUES ('Vega.2015-08-01T12:00:00.000.MeridianConstraint', 0.4486174117801366)\n",
      "target:  <FixedTarget \"Albireo\" at SkyCoord (ICRS): (ra, dec) in deg ( 292.68033548,  27.95968007)>\n",
      "key: Albireo.2015-08-01T06:00:00.000.MeridianConstraint\n",
      "Using saved score. 0.9765930855605337\n",
      "sql:  REPLACE INTO scores VALUES ('Albireo.2015-08-01T06:00:00.000.MeridianConstraint', 0.9765930855605337)\n",
      "key: Albireo.2015-08-01T12:00:00.000.MeridianConstraint\n",
      "Using saved score. 0.5232069483068253\n",
      "sql:  REPLACE INTO scores VALUES ('Albireo.2015-08-01T12:00:00.000.MeridianConstraint', 0.5232069483068253)\n",
      "target:  <FixedTarget \"Algol\" at SkyCoord (ICRS): (ra, dec) in deg ( 47.04221855,  40.95564667)>\n",
      "key: Algol.2015-08-01T06:00:00.000.MeridianConstraint\n",
      "Using saved score. 0.3426400301964194\n",
      "sql:  REPLACE INTO scores VALUES ('Algol.2015-08-01T06:00:00.000.MeridianConstraint', 0.3426400301964194)\n",
      "key: Algol.2015-08-01T12:00:00.000.MeridianConstraint\n",
      "Using saved score. 0.842616540375683\n",
      "sql:  REPLACE INTO scores VALUES ('Algol.2015-08-01T12:00:00.000.MeridianConstraint', 0.842616540375683)\n",
      "target:  <FixedTarget \"Rigel\" at SkyCoord (ICRS): (ra, dec) in deg ( 78.63446707, -8.20163837)>\n",
      "key: Rigel.2015-08-01T06:00:00.000.MeridianConstraint\n",
      "Using saved score. 0.16800771560381955\n",
      "sql:  REPLACE INTO scores VALUES ('Rigel.2015-08-01T06:00:00.000.MeridianConstraint', 0.16800771560381955)\n",
      "key: Rigel.2015-08-01T12:00:00.000.MeridianConstraint\n",
      "Using saved score. 0.668005728158686\n",
      "sql:  REPLACE INTO scores VALUES ('Rigel.2015-08-01T12:00:00.000.MeridianConstraint', 0.668005728158686)\n",
      "target:  <FixedTarget \"Regulus\" at SkyCoord (ICRS): (ra, dec) in deg ( 152.09296244,  11.96720878)>\n",
      "key: Regulus.2015-08-01T06:00:00.000.MeridianConstraint\n",
      "Using saved score. 0.24455533642459804\n",
      "sql:  REPLACE INTO scores VALUES ('Regulus.2015-08-01T06:00:00.000.MeridianConstraint', 0.24455533642459804)\n",
      "key: Regulus.2015-08-01T12:00:00.000.MeridianConstraint\n",
      "Using saved score. 0.2609162507564933\n",
      "sql:  REPLACE INTO scores VALUES ('Regulus.2015-08-01T12:00:00.000.MeridianConstraint', 0.2609162507564933)\n",
      "mask\n",
      "[0.36720391455623835, 0.8672034377190802, 0.9485614448785782, 0.4486174117801366, 0.9765930855605337, 0.5232069483068253, 0.3426400301964194, 0.842616540375683, 0.16800771560381955, 0.668005728158686, 0.24455533642459804, 0.2609162507564933]\n",
      "a\n",
      "array([[ 0.36720391,  0.86720344],\n",
      "       [ 0.94856144,  0.44861741],\n",
      "       [ 0.97659309,  0.52320695],\n",
      "       [ 0.34264003,  0.84261654],\n",
      "       [ 0.16800772,  0.66800573],\n",
      "       [ 0.24455534,  0.26091625]])\n",
      "target:  <FixedTarget \"Polaris\" at SkyCoord (ICRS): (ra, dec) in deg ( 37.95456067,  89.26410897)>\n",
      "key: Polaris.2015-08-01T06:00:00.000.MeridianConstraint\n",
      "Using saved score. 0.36720391455623835\n",
      "sql:  REPLACE INTO scores VALUES ('Polaris.2015-08-01T06:00:00.000.MeridianConstraint', 0.36720391455623835)\n",
      "key: Polaris.2015-08-01T12:00:00.000.MeridianConstraint\n",
      "Using saved score. 0.8672034377190802\n",
      "sql:  REPLACE INTO scores VALUES ('Polaris.2015-08-01T12:00:00.000.MeridianConstraint', 0.8672034377190802)\n",
      "target:  <FixedTarget \"Vega\" at SkyCoord (ICRS): (ra, dec) in deg ( 279.23473479,  38.78368896)>\n",
      "key: Vega.2015-08-01T06:00:00.000.MeridianConstraint\n",
      "Using saved score. 0.9485614448785782\n",
      "sql:  REPLACE INTO scores VALUES ('Vega.2015-08-01T06:00:00.000.MeridianConstraint', 0.9485614448785782)\n",
      "key: Vega.2015-08-01T12:00:00.000.MeridianConstraint\n",
      "Using saved score. 0.4486174117801366\n",
      "sql:  REPLACE INTO scores VALUES ('Vega.2015-08-01T12:00:00.000.MeridianConstraint', 0.4486174117801366)\n",
      "target:  <FixedTarget \"Albireo\" at SkyCoord (ICRS): (ra, dec) in deg ( 292.68033548,  27.95968007)>\n",
      "key: Albireo.2015-08-01T06:00:00.000.MeridianConstraint\n",
      "Using saved score. 0.9765930855605337\n",
      "sql:  REPLACE INTO scores VALUES ('Albireo.2015-08-01T06:00:00.000.MeridianConstraint', 0.9765930855605337)\n",
      "key: Albireo.2015-08-01T12:00:00.000.MeridianConstraint\n",
      "Using saved score. 0.5232069483068253\n",
      "sql:  REPLACE INTO scores VALUES ('Albireo.2015-08-01T12:00:00.000.MeridianConstraint', 0.5232069483068253)\n",
      "target:  <FixedTarget \"Algol\" at SkyCoord (ICRS): (ra, dec) in deg ( 47.04221855,  40.95564667)>\n",
      "key: Algol.2015-08-01T06:00:00.000.MeridianConstraint\n",
      "Using saved score. 0.3426400301964194\n",
      "sql:  REPLACE INTO scores VALUES ('Algol.2015-08-01T06:00:00.000.MeridianConstraint', 0.3426400301964194)\n",
      "key: Algol.2015-08-01T12:00:00.000.MeridianConstraint\n",
      "Using saved score. 0.842616540375683\n",
      "sql:  REPLACE INTO scores VALUES ('Algol.2015-08-01T12:00:00.000.MeridianConstraint', 0.842616540375683)\n",
      "target:  <FixedTarget \"Rigel\" at SkyCoord (ICRS): (ra, dec) in deg ( 78.63446707, -8.20163837)>\n",
      "key: Rigel.2015-08-01T06:00:00.000.MeridianConstraint\n",
      "Using saved score. 0.16800771560381955\n",
      "sql:  REPLACE INTO scores VALUES ('Rigel.2015-08-01T06:00:00.000.MeridianConstraint', 0.16800771560381955)\n",
      "key: Rigel.2015-08-01T12:00:00.000.MeridianConstraint\n",
      "Using saved score. 0.668005728158686\n",
      "sql:  REPLACE INTO scores VALUES ('Rigel.2015-08-01T12:00:00.000.MeridianConstraint', 0.668005728158686)\n",
      "target:  <FixedTarget \"Regulus\" at SkyCoord (ICRS): (ra, dec) in deg ( 152.09296244,  11.96720878)>\n",
      "key: Regulus.2015-08-01T06:00:00.000.MeridianConstraint\n",
      "Using saved score. 0.24455533642459804\n",
      "sql:  REPLACE INTO scores VALUES ('Regulus.2015-08-01T06:00:00.000.MeridianConstraint', 0.24455533642459804)\n",
      "key: Regulus.2015-08-01T12:00:00.000.MeridianConstraint\n",
      "Using saved score. 0.2609162507564933\n",
      "sql:  REPLACE INTO scores VALUES ('Regulus.2015-08-01T12:00:00.000.MeridianConstraint', 0.2609162507564933)\n",
      "mask\n",
      "[0.36720391455623835, 0.8672034377190802, 0.9485614448785782, 0.4486174117801366, 0.9765930855605337, 0.5232069483068253, 0.3426400301964194, 0.842616540375683, 0.16800771560381955, 0.668005728158686, 0.24455533642459804, 0.2609162507564933]\n",
      "a\n",
      "array([[ 0.36720391,  0.86720344],\n",
      "       [ 0.94856144,  0.44861741],\n",
      "       [ 0.97659309,  0.52320695],\n",
      "       [ 0.34264003,  0.84261654],\n",
      "       [ 0.16800772,  0.66800573],\n",
      "       [ 0.24455534,  0.26091625]])\n",
      "Elapsed time:  0:00:30.546659\n"
     ]
    }
   ],
   "source": [
    "m = MeridianConstraint( mode=\"sunset\",\n",
    "                 min_alt_degrees=20 * u.deg,\n",
    "                 max_solar_altitude=-12 * u.deg,\n",
    "                 grid_times_targets=True, \n",
    "                 debug=True)\n",
    "start = datetime.datetime.now()\n",
    "for count in range(10):\n",
    "    m.compute_constraint(times, mmto, targets)\n",
    "end = datetime.datetime.now()\n",
    "print(\"Elapsed time: \", str(end - start))"
   ]
  },
  {
   "cell_type": "code",
   "execution_count": null,
   "metadata": {
    "collapsed": true
   },
   "outputs": [],
   "source": []
  },
  {
   "cell_type": "markdown",
   "metadata": {},
   "source": []
  }
 ],
 "metadata": {
  "kernelspec": {
   "display_name": "Python 3",
   "language": "python",
   "name": "python3"
  },
  "language_info": {
   "codemirror_mode": {
    "name": "ipython",
    "version": 3
   },
   "file_extension": ".py",
   "mimetype": "text/x-python",
   "name": "python",
   "nbconvert_exporter": "python",
   "pygments_lexer": "ipython3",
   "version": "3.6.3"
  }
 },
 "nbformat": 4,
 "nbformat_minor": 2
}
