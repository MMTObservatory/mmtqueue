{
 "cells": [
  {
   "cell_type": "markdown",
   "metadata": {},
   "source": [
    "##  MaskAngleConstraint tester3, using MMTFixedTarget and Observing Blocks\n",
    "Note: uses astropy 2.0 and astroplan 0.4.  Numpy is used when possible."
   ]
  },
  {
   "cell_type": "code",
   "execution_count": 184,
   "metadata": {},
   "outputs": [
    {
     "data": {
      "text/plain": [
       "'\\nMaskAngleConstraint tester.\\n'"
      ]
     },
     "execution_count": 184,
     "metadata": {},
     "output_type": "execute_result"
    }
   ],
   "source": [
    "#!/usr/bin/env python3\n",
    "\"\"\"\n",
    "MaskAngleConstraint tester.\n",
    "\"\"\""
   ]
  },
  {
   "cell_type": "code",
   "execution_count": 185,
   "metadata": {},
   "outputs": [
    {
     "data": {
      "text/plain": [
       "[astroplan 0.4 (/Users/jdgibson/anaconda3/envs/QueueScheduler2-0/lib/python3.6/site-packages),\n",
       " pytz 2017.2 (/Users/jdgibson/anaconda3/envs/QueueScheduler2-0/lib/python3.6/site-packages),\n",
       " astropy 2.0.2 (/Users/jdgibson/anaconda3/envs/QueueScheduler2-0/lib/python3.6/site-packages),\n",
       " numpy 1.13.3 (/Users/jdgibson/anaconda3/envs/QueueScheduler2-0/lib/python3.6/site-packages),\n",
       " numpy 1.13.3 (/Users/jdgibson/anaconda3/envs/QueueScheduler2-0/lib/python3.6/site-packages),\n",
       " pytest 3.2.1 (/Users/jdgibson/anaconda3/envs/QueueScheduler2-0/lib/python3.6/site-packages),\n",
       " setuptools 36.5.0.post20170921 (/Users/jdgibson/anaconda3/envs/QueueScheduler2-0/lib/python3.6/site-packages),\n",
       " py 1.4.34 (/Users/jdgibson/anaconda3/envs/QueueScheduler2-0/lib/python3.6/site-packages)]"
      ]
     },
     "execution_count": 185,
     "metadata": {},
     "output_type": "execute_result"
    }
   ],
   "source": [
    "import pkg_resources\n",
    "pkg_resources.require(\"astropy>=2.0\")\n",
    "pkg_resources.require(\"astroplan>=0.3\")"
   ]
  },
  {
   "cell_type": "code",
   "execution_count": 186,
   "metadata": {},
   "outputs": [],
   "source": [
    "# from astroplan import download_IERS_A\n",
    "# download_IERS_A()"
   ]
  },
  {
   "cell_type": "code",
   "execution_count": 187,
   "metadata": {},
   "outputs": [],
   "source": [
    "from astroplan import Observer, FixedTarget\n",
    "from astropy.time import Time, TimeDelta"
   ]
  },
  {
   "cell_type": "code",
   "execution_count": 188,
   "metadata": {},
   "outputs": [],
   "source": [
    "from astroplan import Constraint, AtNightConstraint, AirmassConstraint\n",
    "from astroplan import SequentialScheduler, ObservingBlock\n",
    "from astroplan.constraints import _get_altaz, is_event_observable\n",
    "from astropy.coordinates import Angle\n",
    "from astropy.coordinates import SkyCoord\n",
    "import astropy.units as u\n",
    "import numpy as np\n",
    "import datetime"
   ]
  },
  {
   "cell_type": "code",
   "execution_count": 189,
   "metadata": {},
   "outputs": [],
   "source": [
    "import sqlite3\n",
    "from sqlite3 import Error\n",
    "\n",
    "\"\"\"\n",
    "CREATE TABLE `scores` (\n",
    "\t`key`\tTEXT,\n",
    "\t`value`\tREAL,\n",
    "\tPRIMARY KEY(`key`)\n",
    ")\n",
    "\"\"\"\n",
    "sqlite_file = '/Users/jdgibson/git/QueueScheduler2.0/scores.sqlite' \n",
    "table = \"scores\"\n",
    " \n"
   ]
  },
  {
   "cell_type": "code",
   "execution_count": 190,
   "metadata": {},
   "outputs": [
    {
     "name": "stdout",
     "output_type": "stream",
     "text": [
      "[('scores',)]\n"
     ]
    }
   ],
   "source": [
    "# create a database connection\n",
    "conn = sqlite3.connect(sqlite_file)\n",
    "c = conn.cursor()\n",
    "c.execute(\"SELECT name FROM sqlite_master WHERE type='table';\")\n",
    "print(c.fetchall())\n",
    "conn.close()"
   ]
  },
  {
   "cell_type": "code",
   "execution_count": 191,
   "metadata": {},
   "outputs": [],
   "source": [
    "def get_score(conn, key):\n",
    "    \"\"\"\n",
    "\n",
    "    \"\"\"\n",
    "    c = conn.cursor()\n",
    "    c.execute(\"SELECT * FROM scores WHERE key='{}'\".format(key)) \n",
    "    row = c.fetchone()\n",
    "    return row"
   ]
  },
  {
   "cell_type": "code",
   "execution_count": 192,
   "metadata": {},
   "outputs": [],
   "source": [
    "def set_score(conn, key, value):\n",
    "    \"\"\"\n",
    "\n",
    "    \"\"\"\n",
    "    c = conn.cursor()\n",
    "    \n",
    "    try:\n",
    "        sql = \"REPLACE INTO scores VALUES ('{}', {})\".format(key, value)\n",
    "        if True:\n",
    "            print(\"sql: \", sql)\n",
    "        \n",
    "        # Can do this with new versions of sqlite.  It does commits automatically.\n",
    "        with conn:\n",
    "            conn.execute(sql)\n",
    "\n",
    "        # Older version.\n",
    "        # c.execute(sql)\n",
    "        # Save (commit) the changes\n",
    "        # conn.commit()\n",
    "        # conn.close()\n",
    "    except sqlite3.IntegrityError:\n",
    "        print('ERROR: ID already exists in PRIMARY KEY column {}'.format(\"key\"))\n"
   ]
  },
  {
   "cell_type": "code",
   "execution_count": 193,
   "metadata": {},
   "outputs": [],
   "source": [
    "def get_key(constraint, target, time):\n",
    "    \"\"\"\n",
    "    \n",
    "    \"\"\"\n",
    "    time.format = 'isot'\n",
    "    key = \"{}.{}.{}\".format(target, \n",
    "                            str(time), \n",
    "                            constraint)\n",
    "    if True:\n",
    "        print(\"key:\", key)\n",
    "    return key"
   ]
  },
  {
   "cell_type": "code",
   "execution_count": 194,
   "metadata": {},
   "outputs": [],
   "source": [
    "def dict_factory(cursor, row):\n",
    "    d = {}\n",
    "    for idx,col in enumerate(cursor.description):\n",
    "        d[col[0]] = row[idx]\n",
    "    return d"
   ]
  },
  {
   "cell_type": "code",
   "execution_count": 195,
   "metadata": {},
   "outputs": [],
   "source": [
    "mmto = Observer(longitude=249.11499999999998*u.deg,\n",
    "                                 latitude=31.688333333333333*u.deg, \n",
    "                                 elevation=2608*u.m,\n",
    "                                 name=\"mmto\",\n",
    "                                 timezone=\"America/Phoenix\")\n",
    "times = Time([\"2017-08-01 06:00\", \"2017-08-01 12:00\", \"2017-08-01 18:00\"])"
   ]
  },
  {
   "cell_type": "code",
   "execution_count": 196,
   "metadata": {},
   "outputs": [
    {
     "name": "stdout",
     "output_type": "stream",
     "text": [
      "<Observer: name='mmto',\n",
      "    location (lon, lat, el)=(-110.88500000000002 deg, 31.688333333333325 deg, 2607.999999999073 m),\n",
      "    timezone=<DstTzInfo 'America/Phoenix' LMT-1 day, 16:32:00 STD>>\n"
     ]
    }
   ],
   "source": [
    "print(mmto)"
   ]
  },
  {
   "cell_type": "code",
   "execution_count": 197,
   "metadata": {},
   "outputs": [],
   "source": [
    "# MMTFixedTarget is a subclass of FixedTarget.\n",
    "# It's only difference is that this adds a position angle (posang) and\n",
    "# program info for each target.\n",
    "# The posang can be the position angle for a mask to check rotator limits via the RotatorConstraint class\n",
    "class MMTFixedTarget(FixedTarget):\n",
    "    \"\"\"\n",
    "    Note:  Class MMTFixedTarget is the same as astrplan.FixedTarget\n",
    "           except that it adds a position angle (posang) and program\n",
    "           id to the target object.\n",
    "\n",
    "    Coordinates and metadata for an object that is \"fixed\" with respect to the\n",
    "    celestial sphere.\n",
    "    \"\"\"\n",
    "    def __init__(self, coord,\n",
    "                 posang=0.0,\n",
    "                 program=None,\n",
    "                 tac_priority=1.0,\n",
    "                 pi_priority=1.0,\n",
    "                 name=None,\n",
    "                 duration=0.0,\n",
    "                 overhead=0.0,\n",
    "                 block_id=None,\n",
    "                 objid_id=None,\n",
    "                 mask_id=None, **kwargs):\n",
    "        FixedTarget.__init__(self, coord, name, **kwargs)\n",
    "        \"\"\"\n",
    "        Parameters\n",
    "        ----------\n",
    "        coord : `~astropy.coordinates.SkyCoord`\n",
    "            Coordinate of the target\n",
    "\n",
    "        posang : float\n",
    "            The Position angle for this Observing Block/target\n",
    "\n",
    "        program : string\n",
    "            The name of the program for this target.\n",
    "        \n",
    "        tac_priority: float (optional)\n",
    "            Priority assigned to this program by the Time Allocation Committee (TAC).  Range [0.0-9.9]\n",
    "            \n",
    "        pi_priority: float (optional)\n",
    "            Priority assigned to this target by the Principal Investigator (PI).  Range [0.0-9.9]\n",
    "        \n",
    "        name : str (optional)\n",
    "            Name of the target, used for plotting and representing the target\n",
    "            as a string\n",
    "        \"\"\"\n",
    "        self.coord = coord # Not sure if this is needed.\n",
    "        self.posang = posang\n",
    "        self.program = program\n",
    "        self.name = name\n",
    "        self.pi_priority = pi_priority\n",
    "        self.tac_priority = tac_priority\n",
    "        self.duration = duration * u.second\n",
    "        self.overhead = overhead\n",
    "        self.block_id = block_id\n",
    "        self.objid_id = objid_id\n",
    "        self.earth_location = None\n",
    "        self.constraint_scores = {}\n",
    "\n",
    "    # Overwrite the __repr__ function so that the position angle and other attributes of MMTFixedTarget are added.\n",
    "    def __repr__(self):\n",
    "        \"\"\"\n",
    "        String representation of `MMTFixedTarget`.\n",
    "        \"\"\"\n",
    "        class_name = self.__class__.__name__\n",
    "        fmt_coord = repr(self.coord).replace('\\n   ', '')[1:-1]\n",
    "        # Need to add duration.  2016-12-02\n",
    "        return '<{} \"{}\" at {}, posang {}, program {}>'.format(class_name, self.name,\n",
    "                                                               fmt_coord, self.posang, self.program, self.tac_priority, self.pi_priority)\n"
   ]
  },
  {
   "cell_type": "code",
   "execution_count": 198,
   "metadata": {},
   "outputs": [],
   "source": [
    "# Read in the table of targets\n",
    "from astropy.io import ascii\n",
    "target_table = ascii.read('targets.txt')"
   ]
  },
  {
   "cell_type": "code",
   "execution_count": 199,
   "metadata": {},
   "outputs": [],
   "source": [
    "# Create MMTFixedTarger objects for each one in the table\n",
    "targets = [MMTFixedTarget(coord=SkyCoord(ra=ra*u.deg, dec=dec*u.deg), name=name)\n",
    "           for name, ra, dec in target_table]"
   ]
  },
  {
   "cell_type": "code",
   "execution_count": 200,
   "metadata": {},
   "outputs": [
    {
     "name": "stdout",
     "output_type": "stream",
     "text": [
      "[<MMTFixedTarget \"Polaris\" at SkyCoord (ICRS): (ra, dec) in deg ( 37.95456067,  89.26410897), posang 0.0, program None>, <MMTFixedTarget \"Vega\" at SkyCoord (ICRS): (ra, dec) in deg ( 279.23473479,  38.78368896), posang 0.0, program None>, <MMTFixedTarget \"Albireo\" at SkyCoord (ICRS): (ra, dec) in deg ( 292.68033548,  27.95968007), posang 0.0, program None>, <MMTFixedTarget \"Algol\" at SkyCoord (ICRS): (ra, dec) in deg ( 47.04221855,  40.95564667), posang 0.0, program None>, <MMTFixedTarget \"Rigel\" at SkyCoord (ICRS): (ra, dec) in deg ( 78.63446707, -8.20163837), posang 0.0, program None>, <MMTFixedTarget \"Regulus\" at SkyCoord (ICRS): (ra, dec) in deg ( 152.09296244,  11.96720878), posang 0.0, program None>]\n"
     ]
    }
   ],
   "source": [
    "print(targets)"
   ]
  },
  {
   "cell_type": "code",
   "execution_count": 201,
   "metadata": {},
   "outputs": [
    {
     "name": "stdout",
     "output_type": "stream",
     "text": [
      "key: Polaris.2017-08-01T06:00:00.000.MeridianConstraint\n",
      "k =  Polaris.2017-08-01T06:00:00.000.MeridianConstraint\n"
     ]
    }
   ],
   "source": [
    "k = get_key(\"MeridianConstraint\", targets[0].name, times[0])\n",
    "if True:\n",
    "    print(\"k = \", k)"
   ]
  },
  {
   "cell_type": "code",
   "execution_count": 202,
   "metadata": {},
   "outputs": [
    {
     "name": "stdout",
     "output_type": "stream",
     "text": [
      "sql:  REPLACE INTO scores VALUES ('Polaris.2017-08-01T06:00:00.000.MeridianConstraint', 0.3424)\n"
     ]
    }
   ],
   "source": [
    "conn = sqlite3.connect(sqlite_file)\n",
    "conn.row_factory = dict_factory\n",
    "value = 0.3424\n",
    "# conn = sqlite3.connect(sqlite_file, timeout=10)\n",
    "set_score(conn, k, value)"
   ]
  },
  {
   "cell_type": "code",
   "execution_count": 203,
   "metadata": {},
   "outputs": [
    {
     "name": "stdout",
     "output_type": "stream",
     "text": [
      "score =  {'key': 'Polaris.2017-08-01T06:00:00.000.MeridianConstraint', 'value': 0.3424}\n"
     ]
    }
   ],
   "source": [
    "# conn = sqlite3.connect(sqlite_file, timeout=10)\n",
    "s = get_score(conn, k)\n",
    "print(\"score = \", repr(s))"
   ]
  },
  {
   "cell_type": "code",
   "execution_count": 204,
   "metadata": {},
   "outputs": [],
   "source": [
    "# Define an astroplan constraint for the distance of the target from the meridian.\n",
    "# The returned value is either a boolean [0,1] if the target is outside of an allowed time\n",
    "# from meridian transit or a float from [0.0:1.0], where the value is 1.0\n",
    "# when the target is o/typen the meridian to 0.0 when it is at the anti-meridian (12 hours from the meridian)\n",
    "class MeridianConstraint(Constraint):\n",
    "    \"\"\"Constrains the time for targets from meridian transit.\n",
    "\n",
    "    Principal investigators (PI's) are required to assigned an integer priority from 1 (highest) to 3 (lowest) to each of their targets.\n",
    "    The targets should be equally divided into the three priorities (i.e., 1, 2, and 3) so that 1/3 of the requested time correspondes to each\n",
    "    priority.\n",
    "    This equal division into the three priorities by even time requested is needed to keep scheduling fair for all projects.\n",
    "    Every effort will be made to observe all targets, but PI's should anticipate that at least part of their priority 3 targets will not be observed because of poor weather or other causes.\n",
    "\n",
    "\n",
    "    \"\"\"\n",
    "    def __init__(self, mode=\"sunset\",\n",
    "                 min_alt_degrees=20 * u.deg,\n",
    "                 max_solar_altitude=-12 * u.deg,\n",
    "                 grid_times_targets=False, \n",
    "                 debug=False):\n",
    "        \"\"\"\n",
    "        Parameters\n",
    "        ----------\n",
    "        max : `~astropy.units.Quantity` or `None` (optional)\n",
    "            Maximum acceptable separation (in decimal hours) between meridian and target (inclusive).\n",
    "            `None` indicates no constraint of how far the target can be from the meridian.\n",
    "        boolean_constraint : bool\n",
    "            If True, the constraint is treated as a boolean (True for within the\n",
    "            limits and False for outside).  If False, the constraint returns a\n",
    "            float on [0, 1], where 0 is when the target is on the anti-meridian and\n",
    "            1 is when the target is on the meridian.\n",
    "        \"\"\"\n",
    "        self.mode = mode \n",
    "        self.min_alt_degrees = min_alt_degrees\n",
    "        self.max_solar_altitude = max_solar_altitude\n",
    "        self.grid_times_targets = grid_times_targets\n",
    "        self.debug = debug\n",
    "        \n",
    "\n",
    "    def compute_constraint(self, times, observer, targets):\n",
    "        \"\"\"\n",
    "        The MeridianConstraint is calculated by: 1) determining the number of hours the target is from the meridian, and 2) calculating a constraint using Math.abs((12. - hours_from_meridan)/12.0) for the target's position at the beginning, middle, and end of the observing block.  \n",
    "        The calculated scores for these three times will be different.  \n",
    "        This causes the constraint to equal 1.0 on the meridian and 0.0 on the anti-meridian (12 hours away).  \n",
    "        Since the absolute value is used, it doesn't matter which direction the target is from the meridan, i.e., positive hours or negative hours.  Values will always vary from 1.0 to 0.0\n",
    "        It is possible that the target passes through the meridian during the observing block, i.e., it \"transits\". \n",
    "        Caution should be used in cases where the target transits in that azimuth velocities can be very large if the target is close to zenith.\n",
    "        The maximum AltitudeConstraint should help prevent extremely large azimuth velocities.  \n",
    "\n",
    "        It should be remembered that constraint scores are calculated at the beginning, middle, and end of each observing block as part of score for the block.\n",
    "        This causes the constraint to be multiplied by itself three times and the constraint to vary as 1/X^^3 rather than 1/X.\n",
    "\n",
    "        \"\"\"\n",
    "        \n",
    "        # 12 hours: the maximum possible time for a target to be from the meridian \n",
    "        seconds_in_12hrs = 43200     # 12 hours ==> 12 * 60 * 60 = 43200 seconds\n",
    "        \n",
    "        # Set up to TimeDelta constatnt values for future use.\n",
    "        dt_0hrs = TimeDelta(0,format='sec')\n",
    "        dt_1hrs = TimeDelta(3600,format='sec')\n",
    "        dt_1_5hrs = TimeDelta(3600*1.5,format='sec')\n",
    "        dt_2hrs = TimeDelta(3600*2.0,format='sec')\n",
    "        dt_2_5hrs = TimeDelta(3600*2.5,format='sec')\n",
    "        dt_3hrs = TimeDelta(3600*3.0,format='sec')\n",
    "        dt_3_5hrs = TimeDelta(3600*3.5,format='sec')\n",
    "        dt_4hrs = TimeDelta(3600*4.0,format='sec')\n",
    "                \n",
    "        \n",
    "        \n",
    "        # This list will eventually be of length = len(targets) * len(times).\n",
    "        # We'll reshape it when done.\n",
    "        # To do:  See if there is a way to user more numpy functions for these\n",
    "        # calculations to speed things up.\n",
    "        mask=[]\n",
    "        \n",
    "        for target in targets:\n",
    "            print(\"target: \", target)\n",
    "            \"\"\"\n",
    "            if False:\n",
    "                # This is a short-circuit to speed up computation.\n",
    "                #\n",
    "                # If the altitude is below the minimum allowed altitude,\n",
    "                # assign zero's to all times for this target.\n",
    "                # \n",
    "                # In reality, the scores for one or more times within the \n",
    "                # observing block could be greater than zero, but\n",
    "                # the constraint will fail overall for the target since \n",
    "                # there is at least one zero score.\n",
    "            \n",
    "                cached_altaz = _get_altaz(times, observer, target)\n",
    "                alt = cached_altaz['altaz'].alt\n",
    "                \n",
    "                # Step 1: Check if altitudes are below the minimum allowed\n",
    "                #       altitude.  This allows short-circuiting of the constraint\n",
    "                #       calculation to improve efficiency.\n",
    "                #       If the target is below the minimum altitude,\n",
    "                #       the overall score for the target will be zero anyway.\n",
    "                alt_check = alt < self.min_alt_degrees\n",
    "\n",
    "                # Step 2: This is the special case where the target is below \n",
    "                # the lower allowed altitude at any time of the time slot.  \n",
    "                # The scores for all times for this target will be set to zero.\n",
    "                if alt_check.any() == True:\n",
    "                    if self.debug:\n",
    "                        print(\"alt is less than minimum: %s, %s\" % (alt.degree, self.min_alt_degrees))\n",
    "                    \n",
    "                    # Adding a list of zeros of length = len(times)\n",
    "                    mask += [0.0] * len(times)\n",
    "            \n",
    "            # Otherwise, we need to look in detail for each time.\n",
    "            else:\n",
    "            \"\"\"\n",
    "            if True:\n",
    "                for time in times:\n",
    "                    constraint_name = type(self).__name__\n",
    "                    key = get_key(constraint_name, target.name, time)\n",
    "                    obj = get_score(conn,key)\n",
    "                    if obj is not None:\n",
    "                        score = obj['value']\n",
    "                        if True:\n",
    "                            print(\"Using saved score.\", score)  \n",
    "                    \n",
    "                    else:\n",
    "                        # We do a series of tests to see if the observing block is \n",
    "                        # is setting early in the evening.  We want to give high\n",
    "                        # priority to PIPriority == 1 observing blocks that are\n",
    "                        # setting near sunset and that can still be observed.\n",
    "                        #\n",
    "                        # We take into account the duration of observing blocks\n",
    "                        # when doing this special \"sunset\" mode.\n",
    "                        #\n",
    "                        # Step 3:  Get the time of the previous sunset.\n",
    "                        #       This will be used to see if the time is close to sunset.\n",
    "                        prev_sun_set_time = observer.sun_set_time(time, \n",
    "                                            which='previous', \n",
    "                                            horizon=self.max_solar_altitude)\n",
    "\n",
    "                        # Step 4: Calculate the time from the previous sunset.  \n",
    "                        #        This is an indication of how close we are to sunset.\n",
    "                        #        It will be a small number if we are trying to observe\n",
    "                        #        just after sunset.\n",
    "                        td1 = time - prev_sun_set_time \n",
    "\n",
    "                        # Step 5: Get the time of the next target rise.\n",
    "                        #       This will be used to see if the target is close to rising\n",
    "                        #       in the east in the morning.\n",
    "                        next_target_set = observer.target_set_time(time,target,\n",
    "                                            which=\"next\", \n",
    "                                            horizon=self.min_alt_degrees )\n",
    "\n",
    "                        # Step 6: Calculate the time from the next target setting.\n",
    "                        #        This number will be a small positive number when \n",
    "                        #        the target is above the western horizon.\n",
    "                        td2 = next_target_set - time\n",
    "\n",
    "                        # if False and verbose:\n",
    "                        #    print(\"tx1: {}, sec: {}, tx2: {}, sec: {}\".format(tx1, tx1.sec, tx2, tx2.sec))\n",
    "\n",
    "                        # Note: The next three steps use a \"sunset\" mode where we want to give\n",
    "                        #       high priority to targets that will be setting within the next 2-4\n",
    "                        #       hours.  We use a graded approach for scoring, based on the duration\n",
    "                        #       of the target/observing block.\n",
    "\n",
    "                        # Step 8: This is the \"2-hour-target-duration\" sunset special case.  \n",
    "                        #       Evaluate for targets/observing blocks that are more the\n",
    "                        #       _2_ hours in duration, and we are within _4_ hours after sunset,\n",
    "                        #       and the target will be setting within _4_ hours.\n",
    "                        #       Only do this for priority 1 targets.\n",
    "                        #       This is our only chance to observe them.\n",
    "                        #       The score is set to 1.0 to give it the maximum chance of being observed.\n",
    "\n",
    "                        if self.mode == \"sunset\" and \\\n",
    "                                td1 <= dt_4hrs and td1 > dt_0hrs and \\\n",
    "                                td2 <= dt_4hrs and td2 > dt_0hrs and \\\n",
    "                                target.duration >= 2.0 * u.hour and \\\n",
    "                                target.pi_priority == 1.0:\n",
    "                            score = 1.0\n",
    "                            if verbose:\n",
    "                                print(\"Sunset special case (>= 2-hr duration), score:\",score)\n",
    "\n",
    "                        # Step 9: This is the \"1-hour-target-duration\" sunset special case.  \n",
    "                        #       Evaluate for targets/observing blocks that are 1-2 hours\n",
    "                        #       in duration, and we are within _3_ hours after sunset,\n",
    "                        #       and the target will be setting within _3_ hours.\n",
    "                        #       Only do this for priority 1 targets.\n",
    "                        #       This is our only chance to observe them.\n",
    "                        #       The score is set to 1.0 to give it the maximum chance of being observed.\n",
    "                        elif self.mode == \"sunset\" and \\\n",
    "                                td1 <= dt_3hrs and td1 > dt_0hrs and \\\n",
    "                                td2 <= dt_3hrs and td2 > dt_0hrs and \\\n",
    "                                target.duration >= 1.0 * u.hour and \\\n",
    "                                target.pi_priority == 1.0:\n",
    "                            score = 1.0\n",
    "                            if verbose:\n",
    "                                print(\"Sunset special case, (>= 1-hour and < 2-hour duration) score:\",score)\n",
    "\n",
    "                        # Step 10: This is the \"<1-hour-target-duration\" sunset special case.  \n",
    "                        #       Evaluate for targets/observing blocks that are <1 hour\n",
    "                        #       in duration, and we are within _2_ hours after sunset,\n",
    "                        #       and the target will be setting within _2_ hours.\n",
    "                        #       Only do this for priority 1 targets.\n",
    "                        #       This is our only chance to observe them.\n",
    "                        #       The score is set to 1.0 to give it the maximum chance of being observed.\n",
    "                        elif self.mode == \"sunset\" and \\\n",
    "                                td1 <= dt_2hrs and td1 > dt_0hrs and \\\n",
    "                                td2 <= dt_2hrs and td2 > dt_0hrs and \\\n",
    "                                target.pi_priority == 1.0:\n",
    "                            score = 1.0\n",
    "                            if verbose:\n",
    "                                print(\"Sunset special case, (any duration) score:\",score)\n",
    "\n",
    "                        # Step 11:  If all of the other conditions have not been true,\n",
    "                        #       Determine how far the target is from the meridian in seconds\n",
    "                        #       and divide by 12 hours (== 43200 seconds) \n",
    "                        #       The target can be in either rising towards the meridian or\n",
    "                        #       setting away from the meridian.\n",
    "                        else:\n",
    "\n",
    "                            meridian_time = observer.target_meridian_transit_time(time,target,which='nearest')\n",
    "                            diff = abs(time.unix - meridian_time.unix)\n",
    "\n",
    "                            # There are times when the meridian time is 24 hours off.\n",
    "                            # So, the math here accounts for that.\n",
    "                            # If the time difference is more than 24 hours (43200 seconds), \n",
    "                            # subtract 24 hours.\n",
    "                            if diff > 43200:\n",
    "                                diff -= 86400 # 24 hours in seconds.\n",
    "                                # Recheck that we are using an absolute value.\n",
    "                                diff = abs(diff)\n",
    "\n",
    "                            # Here is the meridian scoring algorithm.  \n",
    "                            # The closer to the meridian the closer the score is to one.  \n",
    "                            # The range of scores is 1.0 (on the meridian) to \n",
    "                            # 0.0 (on the anti-meridian).\n",
    "                            score = 1.0 - (diff / 43200.0)               \n",
    "                            # Shouldn't need these, but just checking.\n",
    "                            # The score should already range from 0.0 to 1.0.\n",
    "                            if score < 0.0:\n",
    "                                score = 0.0\n",
    "                            if score > 1.0:\n",
    "                                score = 1.0\n",
    "                    \n",
    "                    # Add the new score to the 1-D list.\n",
    "                    set_score(conn,key,score)\n",
    "                    mask.append(score)\n",
    "            \n",
    "        if self.debug:\n",
    "            print(\"mask\")\n",
    "            print(repr(mask))\n",
    "            \n",
    "        # Turn the mask into a numpy array and reshape.\n",
    "        a = np.reshape(np.array(mask),[len(targets), len(times)])\n",
    "            \n",
    "        if self.debug:\n",
    "            print(\"a\")\n",
    "            print(repr(a))\n",
    "        \n",
    "        return a"
   ]
  },
  {
   "cell_type": "code",
   "execution_count": 205,
   "metadata": {},
   "outputs": [],
   "source": [
    "constraints = [MeridianConstraint( mode=\"sunset\",\n",
    "                 min_alt_degrees=20 * u.deg,\n",
    "                 max_solar_altitude=-12 * u.deg,\n",
    "                 grid_times_targets=False, \n",
    "                 debug=True)]"
   ]
  },
  {
   "cell_type": "code",
   "execution_count": 206,
   "metadata": {},
   "outputs": [
    {
     "name": "stdout",
     "output_type": "stream",
     "text": [
      "target:  <SkyCoord (ICRS): (ra, dec) in deg\n",
      "    [( 37.95456067,  89.26410897)]>\n",
      "key: icrs.2017-08-01T06:00:00.000.MeridianConstraint\n",
      "Using saved score. 0.3668303033323199\n",
      "sql:  REPLACE INTO scores VALUES ('icrs.2017-08-01T06:00:00.000.MeridianConstraint', 0.3668303033323199)\n",
      "key: icrs.2017-08-01T12:00:00.000.MeridianConstraint\n",
      "Using saved score. 0.8668298376710326\n",
      "sql:  REPLACE INTO scores VALUES ('icrs.2017-08-01T12:00:00.000.MeridianConstraint', 0.8668298376710326)\n",
      "key: icrs.2017-08-01T18:00:00.000.MeridianConstraint\n",
      "Using saved score. 0.6331703867790875\n",
      "sql:  REPLACE INTO scores VALUES ('icrs.2017-08-01T18:00:00.000.MeridianConstraint', 0.6331703867790875)\n",
      "target:  <SkyCoord (ICRS): (ra, dec) in deg\n",
      "    [( 279.23473479,  38.78368896)]>\n",
      "key: icrs.2017-08-01T06:00:00.000.MeridianConstraint\n",
      "Using saved score. 0.3668303033323199\n",
      "sql:  REPLACE INTO scores VALUES ('icrs.2017-08-01T06:00:00.000.MeridianConstraint', 0.3668303033323199)\n",
      "key: icrs.2017-08-01T12:00:00.000.MeridianConstraint\n",
      "Using saved score. 0.8668298376710326\n",
      "sql:  REPLACE INTO scores VALUES ('icrs.2017-08-01T12:00:00.000.MeridianConstraint', 0.8668298376710326)\n",
      "key: icrs.2017-08-01T18:00:00.000.MeridianConstraint\n",
      "Using saved score. 0.6331703867790875\n",
      "sql:  REPLACE INTO scores VALUES ('icrs.2017-08-01T18:00:00.000.MeridianConstraint', 0.6331703867790875)\n",
      "target:  <SkyCoord (ICRS): (ra, dec) in deg\n",
      "    [( 292.68033548,  27.95968007)]>\n",
      "key: icrs.2017-08-01T06:00:00.000.MeridianConstraint\n",
      "Using saved score. 0.3668303033323199\n",
      "sql:  REPLACE INTO scores VALUES ('icrs.2017-08-01T06:00:00.000.MeridianConstraint', 0.3668303033323199)\n",
      "key: icrs.2017-08-01T12:00:00.000.MeridianConstraint\n",
      "Using saved score. 0.8668298376710326\n",
      "sql:  REPLACE INTO scores VALUES ('icrs.2017-08-01T12:00:00.000.MeridianConstraint', 0.8668298376710326)\n",
      "key: icrs.2017-08-01T18:00:00.000.MeridianConstraint\n",
      "Using saved score. 0.6331703867790875\n",
      "sql:  REPLACE INTO scores VALUES ('icrs.2017-08-01T18:00:00.000.MeridianConstraint', 0.6331703867790875)\n",
      "target:  <SkyCoord (ICRS): (ra, dec) in deg\n",
      "    [( 47.04221855,  40.95564667)]>\n",
      "key: icrs.2017-08-01T06:00:00.000.MeridianConstraint\n",
      "Using saved score. 0.3668303033323199\n",
      "sql:  REPLACE INTO scores VALUES ('icrs.2017-08-01T06:00:00.000.MeridianConstraint', 0.3668303033323199)\n",
      "key: icrs.2017-08-01T12:00:00.000.MeridianConstraint\n",
      "Using saved score. 0.8668298376710326\n",
      "sql:  REPLACE INTO scores VALUES ('icrs.2017-08-01T12:00:00.000.MeridianConstraint', 0.8668298376710326)\n",
      "key: icrs.2017-08-01T18:00:00.000.MeridianConstraint\n",
      "Using saved score. 0.6331703867790875\n",
      "sql:  REPLACE INTO scores VALUES ('icrs.2017-08-01T18:00:00.000.MeridianConstraint', 0.6331703867790875)\n",
      "target:  <SkyCoord (ICRS): (ra, dec) in deg\n",
      "    [( 78.63446707, -8.20163837)]>\n",
      "key: icrs.2017-08-01T06:00:00.000.MeridianConstraint\n",
      "Using saved score. 0.3668303033323199\n",
      "sql:  REPLACE INTO scores VALUES ('icrs.2017-08-01T06:00:00.000.MeridianConstraint', 0.3668303033323199)\n",
      "key: icrs.2017-08-01T12:00:00.000.MeridianConstraint\n",
      "Using saved score. 0.8668298376710326\n",
      "sql:  REPLACE INTO scores VALUES ('icrs.2017-08-01T12:00:00.000.MeridianConstraint', 0.8668298376710326)\n",
      "key: icrs.2017-08-01T18:00:00.000.MeridianConstraint\n",
      "Using saved score. 0.6331703867790875\n",
      "sql:  REPLACE INTO scores VALUES ('icrs.2017-08-01T18:00:00.000.MeridianConstraint', 0.6331703867790875)\n",
      "target:  <SkyCoord (ICRS): (ra, dec) in deg\n",
      "    [( 152.09296244,  11.96720878)]>\n",
      "key: icrs.2017-08-01T06:00:00.000.MeridianConstraint\n",
      "Using saved score. 0.3668303033323199\n",
      "sql:  REPLACE INTO scores VALUES ('icrs.2017-08-01T06:00:00.000.MeridianConstraint', 0.3668303033323199)\n",
      "key: icrs.2017-08-01T12:00:00.000.MeridianConstraint\n",
      "Using saved score. 0.8668298376710326\n",
      "sql:  REPLACE INTO scores VALUES ('icrs.2017-08-01T12:00:00.000.MeridianConstraint', 0.8668298376710326)\n",
      "key: icrs.2017-08-01T18:00:00.000.MeridianConstraint\n",
      "Using saved score. 0.6331703867790875\n",
      "sql:  REPLACE INTO scores VALUES ('icrs.2017-08-01T18:00:00.000.MeridianConstraint', 0.6331703867790875)\n",
      "mask\n",
      "[0.3668303033323199, 0.8668298376710326, 0.6331703867790875, 0.3668303033323199, 0.8668298376710326, 0.6331703867790875, 0.3668303033323199, 0.8668298376710326, 0.6331703867790875, 0.3668303033323199, 0.8668298376710326, 0.6331703867790875, 0.3668303033323199, 0.8668298376710326, 0.6331703867790875, 0.3668303033323199, 0.8668298376710326, 0.6331703867790875]\n",
      "a\n",
      "array([[ 0.3668303 ,  0.86682984,  0.63317039],\n",
      "       [ 0.3668303 ,  0.86682984,  0.63317039],\n",
      "       [ 0.3668303 ,  0.86682984,  0.63317039],\n",
      "       [ 0.3668303 ,  0.86682984,  0.63317039],\n",
      "       [ 0.3668303 ,  0.86682984,  0.63317039],\n",
      "       [ 0.3668303 ,  0.86682984,  0.63317039]])\n"
     ]
    },
    {
     "data": {
      "text/plain": [
       "array([[ True,  True,  True],\n",
       "       [ True,  True,  True],\n",
       "       [ True,  True,  True],\n",
       "       [ True,  True,  True],\n",
       "       [ True,  True,  True],\n",
       "       [ True,  True,  True]], dtype=bool)"
      ]
     },
     "execution_count": 206,
     "metadata": {},
     "output_type": "execute_result"
    }
   ],
   "source": [
    "is_event_observable(constraints, mmto, targets, times)"
   ]
  },
  {
   "cell_type": "code",
   "execution_count": 207,
   "metadata": {},
   "outputs": [],
   "source": [
    "constraints = [MeridianConstraint( mode=\"sunset\",\n",
    "                 min_alt_degrees=20 * u.deg,\n",
    "                 max_solar_altitude=-12 * u.deg,\n",
    "                 grid_times_targets=False, \n",
    "                 debug=True),\n",
    "               AirmassConstraint(max=2.0)]"
   ]
  },
  {
   "cell_type": "code",
   "execution_count": 208,
   "metadata": {},
   "outputs": [],
   "source": [
    "# print(\"Constraint name: \", repr(type(m).__name__))"
   ]
  },
  {
   "cell_type": "code",
   "execution_count": 209,
   "metadata": {},
   "outputs": [
    {
     "name": "stdout",
     "output_type": "stream",
     "text": [
      "target:  <SkyCoord (ICRS): (ra, dec) in deg\n",
      "    [( 37.95456067,  89.26410897)]>\n",
      "key: icrs.2017-08-01T06:00:00.000.MeridianConstraint\n",
      "Using saved score. 0.3668303033323199\n",
      "sql:  REPLACE INTO scores VALUES ('icrs.2017-08-01T06:00:00.000.MeridianConstraint', 0.3668303033323199)\n",
      "key: icrs.2017-08-01T12:00:00.000.MeridianConstraint\n",
      "Using saved score. 0.8668298376710326\n",
      "sql:  REPLACE INTO scores VALUES ('icrs.2017-08-01T12:00:00.000.MeridianConstraint', 0.8668298376710326)\n",
      "key: icrs.2017-08-01T18:00:00.000.MeridianConstraint\n",
      "Using saved score. 0.6331703867790875\n",
      "sql:  REPLACE INTO scores VALUES ('icrs.2017-08-01T18:00:00.000.MeridianConstraint', 0.6331703867790875)\n",
      "target:  <SkyCoord (ICRS): (ra, dec) in deg\n",
      "    [( 279.23473479,  38.78368896)]>\n",
      "key: icrs.2017-08-01T06:00:00.000.MeridianConstraint\n",
      "Using saved score. 0.3668303033323199\n",
      "sql:  REPLACE INTO scores VALUES ('icrs.2017-08-01T06:00:00.000.MeridianConstraint', 0.3668303033323199)\n",
      "key: icrs.2017-08-01T12:00:00.000.MeridianConstraint\n",
      "Using saved score. 0.8668298376710326\n",
      "sql:  REPLACE INTO scores VALUES ('icrs.2017-08-01T12:00:00.000.MeridianConstraint', 0.8668298376710326)\n",
      "key: icrs.2017-08-01T18:00:00.000.MeridianConstraint\n",
      "Using saved score. 0.6331703867790875\n",
      "sql:  REPLACE INTO scores VALUES ('icrs.2017-08-01T18:00:00.000.MeridianConstraint', 0.6331703867790875)\n",
      "target:  <SkyCoord (ICRS): (ra, dec) in deg\n",
      "    [( 292.68033548,  27.95968007)]>\n",
      "key: icrs.2017-08-01T06:00:00.000.MeridianConstraint\n",
      "Using saved score. 0.3668303033323199\n",
      "sql:  REPLACE INTO scores VALUES ('icrs.2017-08-01T06:00:00.000.MeridianConstraint', 0.3668303033323199)\n",
      "key: icrs.2017-08-01T12:00:00.000.MeridianConstraint\n",
      "Using saved score. 0.8668298376710326\n",
      "sql:  REPLACE INTO scores VALUES ('icrs.2017-08-01T12:00:00.000.MeridianConstraint', 0.8668298376710326)\n",
      "key: icrs.2017-08-01T18:00:00.000.MeridianConstraint\n",
      "Using saved score. 0.6331703867790875\n",
      "sql:  REPLACE INTO scores VALUES ('icrs.2017-08-01T18:00:00.000.MeridianConstraint', 0.6331703867790875)\n",
      "target:  <SkyCoord (ICRS): (ra, dec) in deg\n",
      "    [( 47.04221855,  40.95564667)]>\n",
      "key: icrs.2017-08-01T06:00:00.000.MeridianConstraint\n",
      "Using saved score. 0.3668303033323199\n",
      "sql:  REPLACE INTO scores VALUES ('icrs.2017-08-01T06:00:00.000.MeridianConstraint', 0.3668303033323199)\n",
      "key: icrs.2017-08-01T12:00:00.000.MeridianConstraint\n",
      "Using saved score. 0.8668298376710326\n",
      "sql:  REPLACE INTO scores VALUES ('icrs.2017-08-01T12:00:00.000.MeridianConstraint', 0.8668298376710326)\n",
      "key: icrs.2017-08-01T18:00:00.000.MeridianConstraint\n",
      "Using saved score. 0.6331703867790875\n",
      "sql:  REPLACE INTO scores VALUES ('icrs.2017-08-01T18:00:00.000.MeridianConstraint', 0.6331703867790875)\n",
      "target:  <SkyCoord (ICRS): (ra, dec) in deg\n",
      "    [( 78.63446707, -8.20163837)]>\n",
      "key: icrs.2017-08-01T06:00:00.000.MeridianConstraint\n",
      "Using saved score. 0.3668303033323199\n",
      "sql:  REPLACE INTO scores VALUES ('icrs.2017-08-01T06:00:00.000.MeridianConstraint', 0.3668303033323199)\n",
      "key: icrs.2017-08-01T12:00:00.000.MeridianConstraint\n",
      "Using saved score. 0.8668298376710326\n",
      "sql:  REPLACE INTO scores VALUES ('icrs.2017-08-01T12:00:00.000.MeridianConstraint', 0.8668298376710326)\n",
      "key: icrs.2017-08-01T18:00:00.000.MeridianConstraint\n",
      "Using saved score. 0.6331703867790875\n",
      "sql:  REPLACE INTO scores VALUES ('icrs.2017-08-01T18:00:00.000.MeridianConstraint', 0.6331703867790875)\n",
      "target:  <SkyCoord (ICRS): (ra, dec) in deg\n",
      "    [( 152.09296244,  11.96720878)]>\n",
      "key: icrs.2017-08-01T06:00:00.000.MeridianConstraint\n",
      "Using saved score. 0.3668303033323199\n",
      "sql:  REPLACE INTO scores VALUES ('icrs.2017-08-01T06:00:00.000.MeridianConstraint', 0.3668303033323199)\n",
      "key: icrs.2017-08-01T12:00:00.000.MeridianConstraint\n",
      "Using saved score. 0.8668298376710326\n",
      "sql:  REPLACE INTO scores VALUES ('icrs.2017-08-01T12:00:00.000.MeridianConstraint', 0.8668298376710326)\n",
      "key: icrs.2017-08-01T18:00:00.000.MeridianConstraint\n",
      "Using saved score. 0.6331703867790875\n",
      "sql:  REPLACE INTO scores VALUES ('icrs.2017-08-01T18:00:00.000.MeridianConstraint', 0.6331703867790875)\n",
      "mask\n",
      "[0.3668303033323199, 0.8668298376710326, 0.6331703867790875, 0.3668303033323199, 0.8668298376710326, 0.6331703867790875, 0.3668303033323199, 0.8668298376710326, 0.6331703867790875, 0.3668303033323199, 0.8668298376710326, 0.6331703867790875, 0.3668303033323199, 0.8668298376710326, 0.6331703867790875, 0.3668303033323199, 0.8668298376710326, 0.6331703867790875]\n",
      "a\n",
      "array([[ 0.3668303 ,  0.86682984,  0.63317039],\n",
      "       [ 0.3668303 ,  0.86682984,  0.63317039],\n",
      "       [ 0.3668303 ,  0.86682984,  0.63317039],\n",
      "       [ 0.3668303 ,  0.86682984,  0.63317039],\n",
      "       [ 0.3668303 ,  0.86682984,  0.63317039],\n",
      "       [ 0.3668303 ,  0.86682984,  0.63317039]])\n"
     ]
    },
    {
     "data": {
      "text/plain": [
       "array([[ True,  True,  True],\n",
       "       [ True, False, False],\n",
       "       [ True, False, False],\n",
       "       [False,  True,  True],\n",
       "       [False, False,  True],\n",
       "       [False, False,  True]], dtype=bool)"
      ]
     },
     "execution_count": 209,
     "metadata": {},
     "output_type": "execute_result"
    }
   ],
   "source": [
    "is_event_observable(constraints, mmto, targets, times)"
   ]
  },
  {
   "cell_type": "code",
   "execution_count": 210,
   "metadata": {},
   "outputs": [],
   "source": [
    "constraints = [MeridianConstraint( mode=\"sunset\",\n",
    "                 min_alt_degrees=20 * u.deg,\n",
    "                 max_solar_altitude=-12 * u.deg,\n",
    "                 grid_times_targets=False, \n",
    "                 debug=True),\n",
    "               AirmassConstraint(max=2.0),\n",
    "              AtNightConstraint(max_solar_altitude=-12 * u.deg)]"
   ]
  },
  {
   "cell_type": "code",
   "execution_count": 211,
   "metadata": {},
   "outputs": [
    {
     "name": "stdout",
     "output_type": "stream",
     "text": [
      "target:  <SkyCoord (ICRS): (ra, dec) in deg\n",
      "    [( 37.95456067,  89.26410897)]>\n",
      "key: icrs.2017-08-01T06:00:00.000.MeridianConstraint\n",
      "Using saved score. 0.3668303033323199\n",
      "sql:  REPLACE INTO scores VALUES ('icrs.2017-08-01T06:00:00.000.MeridianConstraint', 0.3668303033323199)\n",
      "key: icrs.2017-08-01T12:00:00.000.MeridianConstraint\n",
      "Using saved score. 0.8668298376710326\n",
      "sql:  REPLACE INTO scores VALUES ('icrs.2017-08-01T12:00:00.000.MeridianConstraint', 0.8668298376710326)\n",
      "key: icrs.2017-08-01T18:00:00.000.MeridianConstraint\n",
      "Using saved score. 0.6331703867790875\n",
      "sql:  REPLACE INTO scores VALUES ('icrs.2017-08-01T18:00:00.000.MeridianConstraint', 0.6331703867790875)\n",
      "target:  <SkyCoord (ICRS): (ra, dec) in deg\n",
      "    [( 279.23473479,  38.78368896)]>\n",
      "key: icrs.2017-08-01T06:00:00.000.MeridianConstraint\n",
      "Using saved score. 0.3668303033323199\n",
      "sql:  REPLACE INTO scores VALUES ('icrs.2017-08-01T06:00:00.000.MeridianConstraint', 0.3668303033323199)\n",
      "key: icrs.2017-08-01T12:00:00.000.MeridianConstraint\n",
      "Using saved score. 0.8668298376710326\n",
      "sql:  REPLACE INTO scores VALUES ('icrs.2017-08-01T12:00:00.000.MeridianConstraint', 0.8668298376710326)\n",
      "key: icrs.2017-08-01T18:00:00.000.MeridianConstraint\n",
      "Using saved score. 0.6331703867790875\n",
      "sql:  REPLACE INTO scores VALUES ('icrs.2017-08-01T18:00:00.000.MeridianConstraint', 0.6331703867790875)\n",
      "target:  <SkyCoord (ICRS): (ra, dec) in deg\n",
      "    [( 292.68033548,  27.95968007)]>\n",
      "key: icrs.2017-08-01T06:00:00.000.MeridianConstraint\n",
      "Using saved score. 0.3668303033323199\n",
      "sql:  REPLACE INTO scores VALUES ('icrs.2017-08-01T06:00:00.000.MeridianConstraint', 0.3668303033323199)\n",
      "key: icrs.2017-08-01T12:00:00.000.MeridianConstraint\n",
      "Using saved score. 0.8668298376710326\n",
      "sql:  REPLACE INTO scores VALUES ('icrs.2017-08-01T12:00:00.000.MeridianConstraint', 0.8668298376710326)\n",
      "key: icrs.2017-08-01T18:00:00.000.MeridianConstraint\n",
      "Using saved score. 0.6331703867790875\n",
      "sql:  REPLACE INTO scores VALUES ('icrs.2017-08-01T18:00:00.000.MeridianConstraint', 0.6331703867790875)\n",
      "target:  <SkyCoord (ICRS): (ra, dec) in deg\n",
      "    [( 47.04221855,  40.95564667)]>\n",
      "key: icrs.2017-08-01T06:00:00.000.MeridianConstraint\n",
      "Using saved score. 0.3668303033323199\n",
      "sql:  REPLACE INTO scores VALUES ('icrs.2017-08-01T06:00:00.000.MeridianConstraint', 0.3668303033323199)\n",
      "key: icrs.2017-08-01T12:00:00.000.MeridianConstraint\n",
      "Using saved score. 0.8668298376710326\n",
      "sql:  REPLACE INTO scores VALUES ('icrs.2017-08-01T12:00:00.000.MeridianConstraint', 0.8668298376710326)\n",
      "key: icrs.2017-08-01T18:00:00.000.MeridianConstraint\n",
      "Using saved score. 0.6331703867790875\n",
      "sql:  REPLACE INTO scores VALUES ('icrs.2017-08-01T18:00:00.000.MeridianConstraint', 0.6331703867790875)\n",
      "target:  <SkyCoord (ICRS): (ra, dec) in deg\n",
      "    [( 78.63446707, -8.20163837)]>\n",
      "key: icrs.2017-08-01T06:00:00.000.MeridianConstraint\n",
      "Using saved score. 0.3668303033323199\n",
      "sql:  REPLACE INTO scores VALUES ('icrs.2017-08-01T06:00:00.000.MeridianConstraint', 0.3668303033323199)\n",
      "key: icrs.2017-08-01T12:00:00.000.MeridianConstraint\n",
      "Using saved score. 0.8668298376710326\n",
      "sql:  REPLACE INTO scores VALUES ('icrs.2017-08-01T12:00:00.000.MeridianConstraint', 0.8668298376710326)\n",
      "key: icrs.2017-08-01T18:00:00.000.MeridianConstraint\n",
      "Using saved score. 0.6331703867790875\n",
      "sql:  REPLACE INTO scores VALUES ('icrs.2017-08-01T18:00:00.000.MeridianConstraint', 0.6331703867790875)\n",
      "target:  <SkyCoord (ICRS): (ra, dec) in deg\n",
      "    [( 152.09296244,  11.96720878)]>\n",
      "key: icrs.2017-08-01T06:00:00.000.MeridianConstraint\n",
      "Using saved score. 0.3668303033323199\n",
      "sql:  REPLACE INTO scores VALUES ('icrs.2017-08-01T06:00:00.000.MeridianConstraint', 0.3668303033323199)\n",
      "key: icrs.2017-08-01T12:00:00.000.MeridianConstraint\n",
      "Using saved score. 0.8668298376710326\n",
      "sql:  REPLACE INTO scores VALUES ('icrs.2017-08-01T12:00:00.000.MeridianConstraint', 0.8668298376710326)\n",
      "key: icrs.2017-08-01T18:00:00.000.MeridianConstraint\n",
      "Using saved score. 0.6331703867790875\n",
      "sql:  REPLACE INTO scores VALUES ('icrs.2017-08-01T18:00:00.000.MeridianConstraint', 0.6331703867790875)\n",
      "mask\n",
      "[0.3668303033323199, 0.8668298376710326, 0.6331703867790875, 0.3668303033323199, 0.8668298376710326, 0.6331703867790875, 0.3668303033323199, 0.8668298376710326, 0.6331703867790875, 0.3668303033323199, 0.8668298376710326, 0.6331703867790875, 0.3668303033323199, 0.8668298376710326, 0.6331703867790875, 0.3668303033323199, 0.8668298376710326, 0.6331703867790875]\n",
      "a\n",
      "array([[ 0.3668303 ,  0.86682984,  0.63317039],\n",
      "       [ 0.3668303 ,  0.86682984,  0.63317039],\n",
      "       [ 0.3668303 ,  0.86682984,  0.63317039],\n",
      "       [ 0.3668303 ,  0.86682984,  0.63317039],\n",
      "       [ 0.3668303 ,  0.86682984,  0.63317039],\n",
      "       [ 0.3668303 ,  0.86682984,  0.63317039]])\n"
     ]
    },
    {
     "data": {
      "text/plain": [
       "array([[ True, False, False],\n",
       "       [ True, False, False],\n",
       "       [ True, False, False],\n",
       "       [False, False, False],\n",
       "       [False, False, False],\n",
       "       [False, False, False]], dtype=bool)"
      ]
     },
     "execution_count": 211,
     "metadata": {},
     "output_type": "execute_result"
    }
   ],
   "source": [
    "is_event_observable(constraints, mmto, targets, times)"
   ]
  },
  {
   "cell_type": "code",
   "execution_count": 212,
   "metadata": {},
   "outputs": [],
   "source": [
    "m2 = AtNightConstraint(max_solar_altitude=-12 * u.deg)"
   ]
  },
  {
   "cell_type": "code",
   "execution_count": 213,
   "metadata": {},
   "outputs": [
    {
     "name": "stdout",
     "output_type": "stream",
     "text": [
      "Constraint name:  'AtNightConstraint'\n"
     ]
    }
   ],
   "source": [
    "print(\"Constraint name: \", repr(type(m2).__name__))"
   ]
  },
  {
   "cell_type": "code",
   "execution_count": 214,
   "metadata": {},
   "outputs": [],
   "source": [
    "result_m2 = m2.compute_constraint(times, mmto, targets)"
   ]
  },
  {
   "cell_type": "code",
   "execution_count": 215,
   "metadata": {},
   "outputs": [
    {
     "name": "stdout",
     "output_type": "stream",
     "text": [
      "targets:  [<MMTFixedTarget \"Polaris\" at SkyCoord (ICRS): (ra, dec) in deg ( 37.95456067,  89.26410897), posang 0.0, program None>, <MMTFixedTarget \"Vega\" at SkyCoord (ICRS): (ra, dec) in deg ( 279.23473479,  38.78368896), posang 0.0, program None>, <MMTFixedTarget \"Albireo\" at SkyCoord (ICRS): (ra, dec) in deg ( 292.68033548,  27.95968007), posang 0.0, program None>, <MMTFixedTarget \"Algol\" at SkyCoord (ICRS): (ra, dec) in deg ( 47.04221855,  40.95564667), posang 0.0, program None>, <MMTFixedTarget \"Rigel\" at SkyCoord (ICRS): (ra, dec) in deg ( 78.63446707, -8.20163837), posang 0.0, program None>, <MMTFixedTarget \"Regulus\" at SkyCoord (ICRS): (ra, dec) in deg ( 152.09296244,  11.96720878), posang 0.0, program None>]\n"
     ]
    }
   ],
   "source": [
    "print(\"targets: \", repr(targets))"
   ]
  },
  {
   "cell_type": "markdown",
   "metadata": {},
   "source": []
  }
 ],
 "metadata": {
  "kernelspec": {
   "display_name": "Python 3",
   "language": "python",
   "name": "python3"
  },
  "language_info": {
   "codemirror_mode": {
    "name": "ipython",
    "version": 3
   },
   "file_extension": ".py",
   "mimetype": "text/x-python",
   "name": "python",
   "nbconvert_exporter": "python",
   "pygments_lexer": "ipython3",
   "version": "3.6.3"
  }
 },
 "nbformat": 4,
 "nbformat_minor": 2
}
