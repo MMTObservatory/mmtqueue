{
 "cells": [
  {
   "cell_type": "code",
   "execution_count": 46,
   "metadata": {},
   "outputs": [],
   "source": [
    "def ref_demo(x,y):\n",
    "    x['my_value'] = 42\n",
    "    y = 43\n",
    "    print(\"my_value: \", x['my_value'], \"y: \", y)"
   ]
  },
  {
   "cell_type": "code",
   "execution_count": 47,
   "metadata": {},
   "outputs": [
    {
     "data": {
      "text/plain": [
       "\"\\nfrom:  https://www.python-course.eu/passing_arguments.php\\nIf you pass immutable arguments like integers, strings or \\ntuples to a function, the passing acts like call-by-value. \\nThe object reference is passed to the function parameters. \\nThey can't be changed within the function, because they \\ncan't be changed at all, i.e. they are immutable. It's \\ndifferent, if we pass mutable arguments. They are also \\npassed by object reference, but they can be changed in \\nplace in the function. If we pass a list to a function, \\nwe have to consider two cases: Elements of a list can be \\nchanged in place, i.e. the list will be changed even in \\nthe caller's scope. If a new list is assigned to the name, \\nthe old list will not be affected, i.e. the list in the \\ncaller's scope will remain untouched. \\n\""
      ]
     },
     "execution_count": 47,
     "metadata": {},
     "output_type": "execute_result"
    }
   ],
   "source": [
    "\"\"\"\n",
    "from:  https://www.python-course.eu/passing_arguments.php\n",
    "If you pass immutable arguments like integers, strings or \n",
    "tuples to a function, the passing acts like call-by-value. \n",
    "The object reference is passed to the function parameters. \n",
    "They can't be changed within the function, because they \n",
    "can't be changed at all, i.e. they are immutable. It's \n",
    "different, if we pass mutable arguments. They are also \n",
    "passed by object reference, but they can be changed in \n",
    "place in the function. If we pass a list to a function, \n",
    "we have to consider two cases: Elements of a list can be \n",
    "changed in place, i.e. the list will be changed even in \n",
    "the caller's scope. If a new list is assigned to the name, \n",
    "the old list will not be affected, i.e. the list in the \n",
    "caller's scope will remain untouched. \n",
    "\"\"\""
   ]
  },
  {
   "cell_type": "code",
   "execution_count": 48,
   "metadata": {},
   "outputs": [
    {
     "name": "stdout",
     "output_type": "stream",
     "text": [
      "my_value:  9 y:  11\n"
     ]
    }
   ],
   "source": [
    "x = {}  # a mutable object...\n",
    "x['my_value'] = 9\n",
    "y = 11\n",
    "print(\"my_value: \", x['my_value'], \"y: \", y)"
   ]
  },
  {
   "cell_type": "code",
   "execution_count": 49,
   "metadata": {},
   "outputs": [
    {
     "data": {
      "text/plain": [
       "4349325528"
      ]
     },
     "execution_count": 49,
     "metadata": {},
     "output_type": "execute_result"
    }
   ],
   "source": [
    "id(x)"
   ]
  },
  {
   "cell_type": "code",
   "execution_count": 50,
   "metadata": {},
   "outputs": [
    {
     "data": {
      "text/plain": [
       "4304853360"
      ]
     },
     "execution_count": 50,
     "metadata": {},
     "output_type": "execute_result"
    }
   ],
   "source": [
    "id(y)"
   ]
  },
  {
   "cell_type": "code",
   "execution_count": 51,
   "metadata": {},
   "outputs": [
    {
     "name": "stdout",
     "output_type": "stream",
     "text": [
      "my_value:  42 y:  43\n"
     ]
    }
   ],
   "source": [
    "# Change the value of an element of \"x\" via a function call.\n",
    "ref_demo(x,y)"
   ]
  },
  {
   "cell_type": "code",
   "execution_count": 52,
   "metadata": {},
   "outputs": [
    {
     "name": "stdout",
     "output_type": "stream",
     "text": [
      "my_value:  42 y:  11\n"
     ]
    }
   ],
   "source": [
    "# Check if the values have changed.\n",
    "# The dictionary item was changed, the integer was not.\n",
    "print(\"my_value: \", x['my_value'], \"y: \", y)"
   ]
  },
  {
   "cell_type": "code",
   "execution_count": 53,
   "metadata": {},
   "outputs": [
    {
     "data": {
      "text/plain": [
       "4349325528"
      ]
     },
     "execution_count": 53,
     "metadata": {},
     "output_type": "execute_result"
    }
   ],
   "source": [
    "id(x)"
   ]
  },
  {
   "cell_type": "code",
   "execution_count": 54,
   "metadata": {},
   "outputs": [
    {
     "data": {
      "text/plain": [
       "4304853360"
      ]
     },
     "execution_count": 54,
     "metadata": {},
     "output_type": "execute_result"
    }
   ],
   "source": [
    "id(y)"
   ]
  }
 ],
 "metadata": {
  "kernelspec": {
   "display_name": "Python 3",
   "language": "python",
   "name": "python3"
  },
  "language_info": {
   "codemirror_mode": {
    "name": "ipython",
    "version": 3
   },
   "file_extension": ".py",
   "mimetype": "text/x-python",
   "name": "python",
   "nbconvert_exporter": "python",
   "pygments_lexer": "ipython3",
   "version": "3.6.3"
  }
 },
 "nbformat": 4,
 "nbformat_minor": 2
}
