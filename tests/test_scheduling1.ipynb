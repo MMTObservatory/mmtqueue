{
 "cells": [
  {
   "cell_type": "code",
   "execution_count": null,
   "metadata": {
    "collapsed": true
   },
   "outputs": [],
   "source": [
    "\"\"\"\n",
    "test_scheduling1\n",
    "\n",
    "*1) TimeAllocationConstraint\n",
    "*2) MeridianConstraint\n",
    "*3) PIPriorityConstraint\n",
    "4) AirmassConstraint\n",
    "5) AltitudeConstraint\n",
    "6) AtNightConstraint\n",
    "7) MoonSeparationConstraint\n",
    "8) TimeConstraint\n",
    "9) RotatorConstraint\n",
    "*10) MaskAngleConstraint\n",
    "*11) MaskNumberConstraint\n",
    "\n",
    "Could add:\n",
    "TransitConstraint\n",
    "\n",
    "\"\"\""
   ]
  }
 ],
 "metadata": {
  "kernelspec": {
   "display_name": "Python 3",
   "language": "python",
   "name": "python3"
  },
  "language_info": {
   "codemirror_mode": {
    "name": "ipython",
    "version": 3
   },
   "file_extension": ".py",
   "mimetype": "text/x-python",
   "name": "python",
   "nbconvert_exporter": "python",
   "pygments_lexer": "ipython3",
   "version": "3.6.3"
  }
 },
 "nbformat": 4,
 "nbformat_minor": 2
}
